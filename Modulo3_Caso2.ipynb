{
 "cells": [
  {
   "cell_type": "markdown",
   "source": "\n<figure>\n<img src=\"/work/Modulo3_Caso2/fig/ISEADE LOGO Y ESCUDO.png\" align=\"center\"/> \n</figure> ",
   "metadata": {
    "cell_id": "f1bea38e-25a5-42d7-be96-e6048ce17081",
    "tags": [],
    "deepnote_cell_type": "markdown"
   }
  },
  {
   "cell_type": "markdown",
   "source": "# Caso 2 - Limpieza y Transformación de Datos",
   "metadata": {
    "cell_id": "f9148ef2-6d09-4cba-8bf4-31f8cdbc7ec1",
    "tags": [],
    "deepnote_cell_type": "markdown"
   }
  },
  {
   "cell_type": "markdown",
   "source": "## Problema de Negocio\n\nNos han dado a la tarea de entender varias características de nuestros clientes:\n- ¿Qué podemos decir de ellos?\n- ¿Qué puedes decir sobre los resultados de la campaña?\n- Si fuéramos a lanzar una nueva campaña de marketing ¿cuáles serían los puntos de conversación más importantes?",
   "metadata": {
    "cell_id": "64c0297b-80ab-423a-b344-1c0fce5d1ab4",
    "tags": [],
    "deepnote_cell_type": "markdown"
   }
  },
  {
   "cell_type": "markdown",
   "source": "## Importación de Módulos",
   "metadata": {
    "cell_id": "e1138372-4508-4cb3-881b-79c13d523e4d",
    "tags": [],
    "deepnote_cell_type": "markdown"
   }
  },
  {
   "cell_type": "code",
   "metadata": {
    "cell_id": "2db05a9f-6304-4a19-870c-bfc6d73aa970",
    "tags": [],
    "deepnote_to_be_reexecuted": false,
    "source_hash": "a33e59f2",
    "execution_start": 1646176795739,
    "execution_millis": 1995,
    "deepnote_cell_type": "code"
   },
   "source": "import numpy as np \nimport pandas as pd \nimport seaborn as sns \nimport matplotlib.pyplot as plt",
   "execution_count": null,
   "outputs": []
  },
  {
   "cell_type": "markdown",
   "source": "## Importación de Datos\n\nLa información fue descargada de un conjunto de datos disponible en [Kaggle](https://www.kaggle.com/imakash3011/customer-personality-analysis). Estos datos son tabulares, y se encuentran en formato .csv. Por lo tanto pueden ser cargadas como una tabla en python. Esto puede ser realizado por medio de un DataFrame de pandas. ",
   "metadata": {
    "cell_id": "be1bb865-5d5d-4ecd-bc71-e702a85dd78b",
    "tags": [],
    "deepnote_cell_type": "markdown"
   }
  },
  {
   "cell_type": "code",
   "metadata": {
    "cell_id": "e925d97c-28be-44ad-8c88-0d8acd688866",
    "tags": [],
    "deepnote_to_be_reexecuted": false,
    "source_hash": "37db3d2e",
    "execution_start": 1646176797735,
    "execution_millis": 94,
    "deepnote_cell_type": "code"
   },
   "source": "df_customers = pd.read_csv('/work/Modulo3_Caso2/data/Customers.csv',sep='\\t')\ndf_customers.head(3)",
   "execution_count": null,
   "outputs": [
    {
     "output_type": "execute_result",
     "execution_count": 2,
     "data": {
      "application/vnd.deepnote.dataframe.v3+json": {
       "column_count": 29,
       "row_count": 3,
       "columns": [
        {
         "name": "ID",
         "dtype": "int64",
         "stats": {
          "unique_count": 3,
          "nan_count": 0,
          "min": "2174",
          "max": "5524",
          "histogram": [
           {
            "bin_start": 2174,
            "bin_end": 2509,
            "count": 1
           },
           {
            "bin_start": 2509,
            "bin_end": 2844,
            "count": 0
           },
           {
            "bin_start": 2844,
            "bin_end": 3179,
            "count": 0
           },
           {
            "bin_start": 3179,
            "bin_end": 3514,
            "count": 0
           },
           {
            "bin_start": 3514,
            "bin_end": 3849,
            "count": 0
           },
           {
            "bin_start": 3849,
            "bin_end": 4184,
            "count": 1
           },
           {
            "bin_start": 4184,
            "bin_end": 4519,
            "count": 0
           },
           {
            "bin_start": 4519,
            "bin_end": 4854,
            "count": 0
           },
           {
            "bin_start": 4854,
            "bin_end": 5189,
            "count": 0
           },
           {
            "bin_start": 5189,
            "bin_end": 5524,
            "count": 1
           }
          ]
         }
        },
        {
         "name": "Year_Birth",
         "dtype": "int64",
         "stats": {
          "unique_count": 3,
          "nan_count": 0,
          "min": "1954",
          "max": "1965",
          "histogram": [
           {
            "bin_start": 1954,
            "bin_end": 1955.1,
            "count": 1
           },
           {
            "bin_start": 1955.1,
            "bin_end": 1956.2,
            "count": 0
           },
           {
            "bin_start": 1956.2,
            "bin_end": 1957.3,
            "count": 1
           },
           {
            "bin_start": 1957.3,
            "bin_end": 1958.4,
            "count": 0
           },
           {
            "bin_start": 1958.4,
            "bin_end": 1959.5,
            "count": 0
           },
           {
            "bin_start": 1959.5,
            "bin_end": 1960.6,
            "count": 0
           },
           {
            "bin_start": 1960.6,
            "bin_end": 1961.7,
            "count": 0
           },
           {
            "bin_start": 1961.7,
            "bin_end": 1962.8,
            "count": 0
           },
           {
            "bin_start": 1962.8,
            "bin_end": 1963.9,
            "count": 0
           },
           {
            "bin_start": 1963.9,
            "bin_end": 1965,
            "count": 1
           }
          ]
         }
        },
        {
         "name": "Education",
         "dtype": "object",
         "stats": {
          "unique_count": 1,
          "nan_count": 0,
          "categories": [
           {
            "name": "Graduation",
            "count": 3
           }
          ]
         }
        },
        {
         "name": "Marital_Status",
         "dtype": "object",
         "stats": {
          "unique_count": 2,
          "nan_count": 0,
          "categories": [
           {
            "name": "Single",
            "count": 2
           },
           {
            "name": "Together",
            "count": 1
           }
          ]
         }
        },
        {
         "name": "Income",
         "dtype": "float64",
         "stats": {
          "unique_count": 3,
          "nan_count": 0,
          "min": "46344.0",
          "max": "71613.0",
          "histogram": [
           {
            "bin_start": 46344,
            "bin_end": 48870.9,
            "count": 1
           },
           {
            "bin_start": 48870.9,
            "bin_end": 51397.8,
            "count": 0
           },
           {
            "bin_start": 51397.8,
            "bin_end": 53924.7,
            "count": 0
           },
           {
            "bin_start": 53924.7,
            "bin_end": 56451.6,
            "count": 0
           },
           {
            "bin_start": 56451.6,
            "bin_end": 58978.5,
            "count": 1
           },
           {
            "bin_start": 58978.5,
            "bin_end": 61505.4,
            "count": 0
           },
           {
            "bin_start": 61505.4,
            "bin_end": 64032.3,
            "count": 0
           },
           {
            "bin_start": 64032.3,
            "bin_end": 66559.2,
            "count": 0
           },
           {
            "bin_start": 66559.2,
            "bin_end": 69086.1,
            "count": 0
           },
           {
            "bin_start": 69086.1,
            "bin_end": 71613,
            "count": 1
           }
          ]
         }
        },
        {
         "name": "Kidhome",
         "dtype": "int64",
         "stats": {
          "unique_count": 2,
          "nan_count": 0,
          "min": "0",
          "max": "1",
          "histogram": [
           {
            "bin_start": 0,
            "bin_end": 0.1,
            "count": 2
           },
           {
            "bin_start": 0.1,
            "bin_end": 0.2,
            "count": 0
           },
           {
            "bin_start": 0.2,
            "bin_end": 0.30000000000000004,
            "count": 0
           },
           {
            "bin_start": 0.30000000000000004,
            "bin_end": 0.4,
            "count": 0
           },
           {
            "bin_start": 0.4,
            "bin_end": 0.5,
            "count": 0
           },
           {
            "bin_start": 0.5,
            "bin_end": 0.6000000000000001,
            "count": 0
           },
           {
            "bin_start": 0.6000000000000001,
            "bin_end": 0.7000000000000001,
            "count": 0
           },
           {
            "bin_start": 0.7000000000000001,
            "bin_end": 0.8,
            "count": 0
           },
           {
            "bin_start": 0.8,
            "bin_end": 0.9,
            "count": 0
           },
           {
            "bin_start": 0.9,
            "bin_end": 1,
            "count": 1
           }
          ]
         }
        },
        {
         "name": "Teenhome",
         "dtype": "int64",
         "stats": {
          "unique_count": 2,
          "nan_count": 0,
          "min": "0",
          "max": "1",
          "histogram": [
           {
            "bin_start": 0,
            "bin_end": 0.1,
            "count": 2
           },
           {
            "bin_start": 0.1,
            "bin_end": 0.2,
            "count": 0
           },
           {
            "bin_start": 0.2,
            "bin_end": 0.30000000000000004,
            "count": 0
           },
           {
            "bin_start": 0.30000000000000004,
            "bin_end": 0.4,
            "count": 0
           },
           {
            "bin_start": 0.4,
            "bin_end": 0.5,
            "count": 0
           },
           {
            "bin_start": 0.5,
            "bin_end": 0.6000000000000001,
            "count": 0
           },
           {
            "bin_start": 0.6000000000000001,
            "bin_end": 0.7000000000000001,
            "count": 0
           },
           {
            "bin_start": 0.7000000000000001,
            "bin_end": 0.8,
            "count": 0
           },
           {
            "bin_start": 0.8,
            "bin_end": 0.9,
            "count": 0
           },
           {
            "bin_start": 0.9,
            "bin_end": 1,
            "count": 1
           }
          ]
         }
        },
        {
         "name": "Dt_Customer",
         "dtype": "object",
         "stats": {
          "unique_count": 3,
          "nan_count": 0,
          "categories": [
           {
            "name": "04-09-2012",
            "count": 1
           },
           {
            "name": "08-03-2014",
            "count": 1
           },
           {
            "name": "21-08-2013",
            "count": 1
           }
          ]
         }
        },
        {
         "name": "Recency",
         "dtype": "int64",
         "stats": {
          "unique_count": 3,
          "nan_count": 0,
          "min": "26",
          "max": "58",
          "histogram": [
           {
            "bin_start": 26,
            "bin_end": 29.2,
            "count": 1
           },
           {
            "bin_start": 29.2,
            "bin_end": 32.4,
            "count": 0
           },
           {
            "bin_start": 32.4,
            "bin_end": 35.6,
            "count": 0
           },
           {
            "bin_start": 35.6,
            "bin_end": 38.8,
            "count": 1
           },
           {
            "bin_start": 38.8,
            "bin_end": 42,
            "count": 0
           },
           {
            "bin_start": 42,
            "bin_end": 45.2,
            "count": 0
           },
           {
            "bin_start": 45.2,
            "bin_end": 48.400000000000006,
            "count": 0
           },
           {
            "bin_start": 48.400000000000006,
            "bin_end": 51.6,
            "count": 0
           },
           {
            "bin_start": 51.6,
            "bin_end": 54.8,
            "count": 0
           },
           {
            "bin_start": 54.8,
            "bin_end": 58,
            "count": 1
           }
          ]
         }
        },
        {
         "name": "MntWines",
         "dtype": "int64",
         "stats": {
          "unique_count": 3,
          "nan_count": 0,
          "min": "11",
          "max": "635",
          "histogram": [
           {
            "bin_start": 11,
            "bin_end": 73.4,
            "count": 1
           },
           {
            "bin_start": 73.4,
            "bin_end": 135.8,
            "count": 0
           },
           {
            "bin_start": 135.8,
            "bin_end": 198.2,
            "count": 0
           },
           {
            "bin_start": 198.2,
            "bin_end": 260.6,
            "count": 0
           },
           {
            "bin_start": 260.6,
            "bin_end": 323,
            "count": 0
           },
           {
            "bin_start": 323,
            "bin_end": 385.4,
            "count": 0
           },
           {
            "bin_start": 385.4,
            "bin_end": 447.8,
            "count": 1
           },
           {
            "bin_start": 447.8,
            "bin_end": 510.2,
            "count": 0
           },
           {
            "bin_start": 510.2,
            "bin_end": 572.6,
            "count": 0
           },
           {
            "bin_start": 572.6,
            "bin_end": 635,
            "count": 1
           }
          ]
         }
        },
        {
         "name": "MntFruits",
         "dtype": "int64",
         "stats": {
          "unique_count": 3,
          "nan_count": 0,
          "min": "1",
          "max": "88",
          "histogram": [
           {
            "bin_start": 1,
            "bin_end": 9.7,
            "count": 1
           },
           {
            "bin_start": 9.7,
            "bin_end": 18.4,
            "count": 0
           },
           {
            "bin_start": 18.4,
            "bin_end": 27.099999999999998,
            "count": 0
           },
           {
            "bin_start": 27.099999999999998,
            "bin_end": 35.8,
            "count": 0
           },
           {
            "bin_start": 35.8,
            "bin_end": 44.5,
            "count": 0
           },
           {
            "bin_start": 44.5,
            "bin_end": 53.199999999999996,
            "count": 1
           },
           {
            "bin_start": 53.199999999999996,
            "bin_end": 61.89999999999999,
            "count": 0
           },
           {
            "bin_start": 61.89999999999999,
            "bin_end": 70.6,
            "count": 0
           },
           {
            "bin_start": 70.6,
            "bin_end": 79.3,
            "count": 0
           },
           {
            "bin_start": 79.3,
            "bin_end": 88,
            "count": 1
           }
          ]
         }
        },
        {
         "name": "MntMeatProducts",
         "dtype": "int64",
         "stats": {
          "unique_count": 3,
          "nan_count": 0,
          "min": "6",
          "max": "546",
          "histogram": [
           {
            "bin_start": 6,
            "bin_end": 60,
            "count": 1
           },
           {
            "bin_start": 60,
            "bin_end": 114,
            "count": 0
           },
           {
            "bin_start": 114,
            "bin_end": 168,
            "count": 1
           },
           {
            "bin_start": 168,
            "bin_end": 222,
            "count": 0
           },
           {
            "bin_start": 222,
            "bin_end": 276,
            "count": 0
           },
           {
            "bin_start": 276,
            "bin_end": 330,
            "count": 0
           },
           {
            "bin_start": 330,
            "bin_end": 384,
            "count": 0
           },
           {
            "bin_start": 384,
            "bin_end": 438,
            "count": 0
           },
           {
            "bin_start": 438,
            "bin_end": 492,
            "count": 0
           },
           {
            "bin_start": 492,
            "bin_end": 546,
            "count": 1
           }
          ]
         }
        },
        {
         "name": "MntFishProducts",
         "dtype": "int64",
         "stats": {
          "unique_count": 3,
          "nan_count": 0,
          "min": "2",
          "max": "172",
          "histogram": [
           {
            "bin_start": 2,
            "bin_end": 19,
            "count": 1
           },
           {
            "bin_start": 19,
            "bin_end": 36,
            "count": 0
           },
           {
            "bin_start": 36,
            "bin_end": 53,
            "count": 0
           },
           {
            "bin_start": 53,
            "bin_end": 70,
            "count": 0
           },
           {
            "bin_start": 70,
            "bin_end": 87,
            "count": 0
           },
           {
            "bin_start": 87,
            "bin_end": 104,
            "count": 0
           },
           {
            "bin_start": 104,
            "bin_end": 121,
            "count": 1
           },
           {
            "bin_start": 121,
            "bin_end": 138,
            "count": 0
           },
           {
            "bin_start": 138,
            "bin_end": 155,
            "count": 0
           },
           {
            "bin_start": 155,
            "bin_end": 172,
            "count": 1
           }
          ]
         }
        },
        {
         "name": "MntSweetProducts",
         "dtype": "int64",
         "stats": {
          "unique_count": 3,
          "nan_count": 0,
          "min": "1",
          "max": "88",
          "histogram": [
           {
            "bin_start": 1,
            "bin_end": 9.7,
            "count": 1
           },
           {
            "bin_start": 9.7,
            "bin_end": 18.4,
            "count": 0
           },
           {
            "bin_start": 18.4,
            "bin_end": 27.099999999999998,
            "count": 1
           },
           {
            "bin_start": 27.099999999999998,
            "bin_end": 35.8,
            "count": 0
           },
           {
            "bin_start": 35.8,
            "bin_end": 44.5,
            "count": 0
           },
           {
            "bin_start": 44.5,
            "bin_end": 53.199999999999996,
            "count": 0
           },
           {
            "bin_start": 53.199999999999996,
            "bin_end": 61.89999999999999,
            "count": 0
           },
           {
            "bin_start": 61.89999999999999,
            "bin_end": 70.6,
            "count": 0
           },
           {
            "bin_start": 70.6,
            "bin_end": 79.3,
            "count": 0
           },
           {
            "bin_start": 79.3,
            "bin_end": 88,
            "count": 1
           }
          ]
         }
        },
        {
         "name": "MntGoldProds",
         "dtype": "int64",
         "stats": {
          "unique_count": 3,
          "nan_count": 0,
          "min": "6",
          "max": "88",
          "histogram": [
           {
            "bin_start": 6,
            "bin_end": 14.2,
            "count": 1
           },
           {
            "bin_start": 14.2,
            "bin_end": 22.4,
            "count": 0
           },
           {
            "bin_start": 22.4,
            "bin_end": 30.599999999999998,
            "count": 0
           },
           {
            "bin_start": 30.599999999999998,
            "bin_end": 38.8,
            "count": 0
           },
           {
            "bin_start": 38.8,
            "bin_end": 47,
            "count": 1
           },
           {
            "bin_start": 47,
            "bin_end": 55.199999999999996,
            "count": 0
           },
           {
            "bin_start": 55.199999999999996,
            "bin_end": 63.39999999999999,
            "count": 0
           },
           {
            "bin_start": 63.39999999999999,
            "bin_end": 71.6,
            "count": 0
           },
           {
            "bin_start": 71.6,
            "bin_end": 79.8,
            "count": 0
           },
           {
            "bin_start": 79.8,
            "bin_end": 88,
            "count": 1
           }
          ]
         }
        },
        {
         "name": "NumDealsPurchases",
         "dtype": "int64",
         "stats": {
          "unique_count": 3,
          "nan_count": 0,
          "min": "1",
          "max": "3",
          "histogram": [
           {
            "bin_start": 1,
            "bin_end": 1.2,
            "count": 1
           },
           {
            "bin_start": 1.2,
            "bin_end": 1.4,
            "count": 0
           },
           {
            "bin_start": 1.4,
            "bin_end": 1.6,
            "count": 0
           },
           {
            "bin_start": 1.6,
            "bin_end": 1.8,
            "count": 0
           },
           {
            "bin_start": 1.8,
            "bin_end": 2,
            "count": 0
           },
           {
            "bin_start": 2,
            "bin_end": 2.2,
            "count": 1
           },
           {
            "bin_start": 2.2,
            "bin_end": 2.4000000000000004,
            "count": 0
           },
           {
            "bin_start": 2.4000000000000004,
            "bin_end": 2.6,
            "count": 0
           },
           {
            "bin_start": 2.6,
            "bin_end": 2.8,
            "count": 0
           },
           {
            "bin_start": 2.8,
            "bin_end": 3,
            "count": 1
           }
          ]
         }
        },
        {
         "name": "NumWebPurchases",
         "dtype": "int64",
         "stats": {
          "unique_count": 2,
          "nan_count": 0,
          "min": "1",
          "max": "8",
          "histogram": [
           {
            "bin_start": 1,
            "bin_end": 1.7,
            "count": 1
           },
           {
            "bin_start": 1.7,
            "bin_end": 2.4,
            "count": 0
           },
           {
            "bin_start": 2.4,
            "bin_end": 3.0999999999999996,
            "count": 0
           },
           {
            "bin_start": 3.0999999999999996,
            "bin_end": 3.8,
            "count": 0
           },
           {
            "bin_start": 3.8,
            "bin_end": 4.5,
            "count": 0
           },
           {
            "bin_start": 4.5,
            "bin_end": 5.199999999999999,
            "count": 0
           },
           {
            "bin_start": 5.199999999999999,
            "bin_end": 5.8999999999999995,
            "count": 0
           },
           {
            "bin_start": 5.8999999999999995,
            "bin_end": 6.6,
            "count": 0
           },
           {
            "bin_start": 6.6,
            "bin_end": 7.3,
            "count": 0
           },
           {
            "bin_start": 7.3,
            "bin_end": 8,
            "count": 2
           }
          ]
         }
        },
        {
         "name": "NumCatalogPurchases",
         "dtype": "int64",
         "stats": {
          "unique_count": 3,
          "nan_count": 0,
          "min": "1",
          "max": "10",
          "histogram": [
           {
            "bin_start": 1,
            "bin_end": 1.9,
            "count": 1
           },
           {
            "bin_start": 1.9,
            "bin_end": 2.8,
            "count": 1
           },
           {
            "bin_start": 2.8,
            "bin_end": 3.7,
            "count": 0
           },
           {
            "bin_start": 3.7,
            "bin_end": 4.6,
            "count": 0
           },
           {
            "bin_start": 4.6,
            "bin_end": 5.5,
            "count": 0
           },
           {
            "bin_start": 5.5,
            "bin_end": 6.4,
            "count": 0
           },
           {
            "bin_start": 6.4,
            "bin_end": 7.3,
            "count": 0
           },
           {
            "bin_start": 7.3,
            "bin_end": 8.2,
            "count": 0
           },
           {
            "bin_start": 8.2,
            "bin_end": 9.1,
            "count": 0
           },
           {
            "bin_start": 9.1,
            "bin_end": 10,
            "count": 1
           }
          ]
         }
        },
        {
         "name": "NumStorePurchases",
         "dtype": "int64",
         "stats": {
          "unique_count": 3,
          "nan_count": 0,
          "min": "2",
          "max": "10",
          "histogram": [
           {
            "bin_start": 2,
            "bin_end": 2.8,
            "count": 1
           },
           {
            "bin_start": 2.8,
            "bin_end": 3.6,
            "count": 0
           },
           {
            "bin_start": 3.6,
            "bin_end": 4.4,
            "count": 1
           },
           {
            "bin_start": 4.4,
            "bin_end": 5.2,
            "count": 0
           },
           {
            "bin_start": 5.2,
            "bin_end": 6,
            "count": 0
           },
           {
            "bin_start": 6,
            "bin_end": 6.800000000000001,
            "count": 0
           },
           {
            "bin_start": 6.800000000000001,
            "bin_end": 7.6000000000000005,
            "count": 0
           },
           {
            "bin_start": 7.6000000000000005,
            "bin_end": 8.4,
            "count": 0
           },
           {
            "bin_start": 8.4,
            "bin_end": 9.2,
            "count": 0
           },
           {
            "bin_start": 9.2,
            "bin_end": 10,
            "count": 1
           }
          ]
         }
        },
        {
         "name": "NumWebVisitsMonth",
         "dtype": "int64",
         "stats": {
          "unique_count": 3,
          "nan_count": 0,
          "min": "4",
          "max": "7",
          "histogram": [
           {
            "bin_start": 4,
            "bin_end": 4.3,
            "count": 1
           },
           {
            "bin_start": 4.3,
            "bin_end": 4.6,
            "count": 0
           },
           {
            "bin_start": 4.6,
            "bin_end": 4.9,
            "count": 0
           },
           {
            "bin_start": 4.9,
            "bin_end": 5.2,
            "count": 1
           },
           {
            "bin_start": 5.2,
            "bin_end": 5.5,
            "count": 0
           },
           {
            "bin_start": 5.5,
            "bin_end": 5.8,
            "count": 0
           },
           {
            "bin_start": 5.8,
            "bin_end": 6.1,
            "count": 0
           },
           {
            "bin_start": 6.1,
            "bin_end": 6.4,
            "count": 0
           },
           {
            "bin_start": 6.4,
            "bin_end": 6.699999999999999,
            "count": 0
           },
           {
            "bin_start": 6.699999999999999,
            "bin_end": 7,
            "count": 1
           }
          ]
         }
        },
        {
         "name": "AcceptedCmp3",
         "dtype": "int64",
         "stats": {
          "unique_count": 1,
          "nan_count": 0,
          "min": "0",
          "max": "0",
          "histogram": [
           {
            "bin_start": -0.5,
            "bin_end": -0.4,
            "count": 0
           },
           {
            "bin_start": -0.4,
            "bin_end": -0.3,
            "count": 0
           },
           {
            "bin_start": -0.3,
            "bin_end": -0.19999999999999996,
            "count": 0
           },
           {
            "bin_start": -0.19999999999999996,
            "bin_end": -0.09999999999999998,
            "count": 0
           },
           {
            "bin_start": -0.09999999999999998,
            "bin_end": 0,
            "count": 0
           },
           {
            "bin_start": 0,
            "bin_end": 0.10000000000000009,
            "count": 3
           },
           {
            "bin_start": 0.10000000000000009,
            "bin_end": 0.20000000000000007,
            "count": 0
           },
           {
            "bin_start": 0.20000000000000007,
            "bin_end": 0.30000000000000004,
            "count": 0
           },
           {
            "bin_start": 0.30000000000000004,
            "bin_end": 0.4,
            "count": 0
           },
           {
            "bin_start": 0.4,
            "bin_end": 0.5,
            "count": 0
           }
          ]
         }
        },
        {
         "name": "AcceptedCmp4",
         "dtype": "int64",
         "stats": {
          "unique_count": 1,
          "nan_count": 0,
          "min": "0",
          "max": "0",
          "histogram": [
           {
            "bin_start": -0.5,
            "bin_end": -0.4,
            "count": 0
           },
           {
            "bin_start": -0.4,
            "bin_end": -0.3,
            "count": 0
           },
           {
            "bin_start": -0.3,
            "bin_end": -0.19999999999999996,
            "count": 0
           },
           {
            "bin_start": -0.19999999999999996,
            "bin_end": -0.09999999999999998,
            "count": 0
           },
           {
            "bin_start": -0.09999999999999998,
            "bin_end": 0,
            "count": 0
           },
           {
            "bin_start": 0,
            "bin_end": 0.10000000000000009,
            "count": 3
           },
           {
            "bin_start": 0.10000000000000009,
            "bin_end": 0.20000000000000007,
            "count": 0
           },
           {
            "bin_start": 0.20000000000000007,
            "bin_end": 0.30000000000000004,
            "count": 0
           },
           {
            "bin_start": 0.30000000000000004,
            "bin_end": 0.4,
            "count": 0
           },
           {
            "bin_start": 0.4,
            "bin_end": 0.5,
            "count": 0
           }
          ]
         }
        },
        {
         "name": "AcceptedCmp5",
         "dtype": "int64",
         "stats": {
          "unique_count": 1,
          "nan_count": 0,
          "min": "0",
          "max": "0",
          "histogram": [
           {
            "bin_start": -0.5,
            "bin_end": -0.4,
            "count": 0
           },
           {
            "bin_start": -0.4,
            "bin_end": -0.3,
            "count": 0
           },
           {
            "bin_start": -0.3,
            "bin_end": -0.19999999999999996,
            "count": 0
           },
           {
            "bin_start": -0.19999999999999996,
            "bin_end": -0.09999999999999998,
            "count": 0
           },
           {
            "bin_start": -0.09999999999999998,
            "bin_end": 0,
            "count": 0
           },
           {
            "bin_start": 0,
            "bin_end": 0.10000000000000009,
            "count": 3
           },
           {
            "bin_start": 0.10000000000000009,
            "bin_end": 0.20000000000000007,
            "count": 0
           },
           {
            "bin_start": 0.20000000000000007,
            "bin_end": 0.30000000000000004,
            "count": 0
           },
           {
            "bin_start": 0.30000000000000004,
            "bin_end": 0.4,
            "count": 0
           },
           {
            "bin_start": 0.4,
            "bin_end": 0.5,
            "count": 0
           }
          ]
         }
        },
        {
         "name": "AcceptedCmp1",
         "dtype": "int64",
         "stats": {
          "unique_count": 1,
          "nan_count": 0,
          "min": "0",
          "max": "0",
          "histogram": [
           {
            "bin_start": -0.5,
            "bin_end": -0.4,
            "count": 0
           },
           {
            "bin_start": -0.4,
            "bin_end": -0.3,
            "count": 0
           },
           {
            "bin_start": -0.3,
            "bin_end": -0.19999999999999996,
            "count": 0
           },
           {
            "bin_start": -0.19999999999999996,
            "bin_end": -0.09999999999999998,
            "count": 0
           },
           {
            "bin_start": -0.09999999999999998,
            "bin_end": 0,
            "count": 0
           },
           {
            "bin_start": 0,
            "bin_end": 0.10000000000000009,
            "count": 3
           },
           {
            "bin_start": 0.10000000000000009,
            "bin_end": 0.20000000000000007,
            "count": 0
           },
           {
            "bin_start": 0.20000000000000007,
            "bin_end": 0.30000000000000004,
            "count": 0
           },
           {
            "bin_start": 0.30000000000000004,
            "bin_end": 0.4,
            "count": 0
           },
           {
            "bin_start": 0.4,
            "bin_end": 0.5,
            "count": 0
           }
          ]
         }
        },
        {
         "name": "AcceptedCmp2",
         "dtype": "int64",
         "stats": {
          "unique_count": 1,
          "nan_count": 0,
          "min": "0",
          "max": "0",
          "histogram": [
           {
            "bin_start": -0.5,
            "bin_end": -0.4,
            "count": 0
           },
           {
            "bin_start": -0.4,
            "bin_end": -0.3,
            "count": 0
           },
           {
            "bin_start": -0.3,
            "bin_end": -0.19999999999999996,
            "count": 0
           },
           {
            "bin_start": -0.19999999999999996,
            "bin_end": -0.09999999999999998,
            "count": 0
           },
           {
            "bin_start": -0.09999999999999998,
            "bin_end": 0,
            "count": 0
           },
           {
            "bin_start": 0,
            "bin_end": 0.10000000000000009,
            "count": 3
           },
           {
            "bin_start": 0.10000000000000009,
            "bin_end": 0.20000000000000007,
            "count": 0
           },
           {
            "bin_start": 0.20000000000000007,
            "bin_end": 0.30000000000000004,
            "count": 0
           },
           {
            "bin_start": 0.30000000000000004,
            "bin_end": 0.4,
            "count": 0
           },
           {
            "bin_start": 0.4,
            "bin_end": 0.5,
            "count": 0
           }
          ]
         }
        },
        {
         "name": "Complain",
         "dtype": "int64",
         "stats": {
          "unique_count": 1,
          "nan_count": 0,
          "min": "0",
          "max": "0",
          "histogram": [
           {
            "bin_start": -0.5,
            "bin_end": -0.4,
            "count": 0
           },
           {
            "bin_start": -0.4,
            "bin_end": -0.3,
            "count": 0
           },
           {
            "bin_start": -0.3,
            "bin_end": -0.19999999999999996,
            "count": 0
           },
           {
            "bin_start": -0.19999999999999996,
            "bin_end": -0.09999999999999998,
            "count": 0
           },
           {
            "bin_start": -0.09999999999999998,
            "bin_end": 0,
            "count": 0
           },
           {
            "bin_start": 0,
            "bin_end": 0.10000000000000009,
            "count": 3
           },
           {
            "bin_start": 0.10000000000000009,
            "bin_end": 0.20000000000000007,
            "count": 0
           },
           {
            "bin_start": 0.20000000000000007,
            "bin_end": 0.30000000000000004,
            "count": 0
           },
           {
            "bin_start": 0.30000000000000004,
            "bin_end": 0.4,
            "count": 0
           },
           {
            "bin_start": 0.4,
            "bin_end": 0.5,
            "count": 0
           }
          ]
         }
        },
        {
         "name": "Z_CostContact",
         "dtype": "int64",
         "stats": {
          "unique_count": 1,
          "nan_count": 0,
          "min": "3",
          "max": "3",
          "histogram": [
           {
            "bin_start": 2.5,
            "bin_end": 2.6,
            "count": 0
           },
           {
            "bin_start": 2.6,
            "bin_end": 2.7,
            "count": 0
           },
           {
            "bin_start": 2.7,
            "bin_end": 2.8,
            "count": 0
           },
           {
            "bin_start": 2.8,
            "bin_end": 2.9,
            "count": 0
           },
           {
            "bin_start": 2.9,
            "bin_end": 3,
            "count": 0
           },
           {
            "bin_start": 3,
            "bin_end": 3.1,
            "count": 3
           },
           {
            "bin_start": 3.1,
            "bin_end": 3.2,
            "count": 0
           },
           {
            "bin_start": 3.2,
            "bin_end": 3.3,
            "count": 0
           },
           {
            "bin_start": 3.3,
            "bin_end": 3.4,
            "count": 0
           },
           {
            "bin_start": 3.4,
            "bin_end": 3.5,
            "count": 0
           }
          ]
         }
        },
        {
         "name": "Z_Revenue",
         "dtype": "int64",
         "stats": {
          "unique_count": 1,
          "nan_count": 0,
          "min": "11",
          "max": "11",
          "histogram": [
           {
            "bin_start": 10.5,
            "bin_end": 10.6,
            "count": 0
           },
           {
            "bin_start": 10.6,
            "bin_end": 10.7,
            "count": 0
           },
           {
            "bin_start": 10.7,
            "bin_end": 10.8,
            "count": 0
           },
           {
            "bin_start": 10.8,
            "bin_end": 10.9,
            "count": 0
           },
           {
            "bin_start": 10.9,
            "bin_end": 11,
            "count": 0
           },
           {
            "bin_start": 11,
            "bin_end": 11.1,
            "count": 3
           },
           {
            "bin_start": 11.1,
            "bin_end": 11.2,
            "count": 0
           },
           {
            "bin_start": 11.2,
            "bin_end": 11.3,
            "count": 0
           },
           {
            "bin_start": 11.3,
            "bin_end": 11.4,
            "count": 0
           },
           {
            "bin_start": 11.4,
            "bin_end": 11.5,
            "count": 0
           }
          ]
         }
        },
        {
         "name": "Response",
         "dtype": "int64",
         "stats": {
          "unique_count": 2,
          "nan_count": 0,
          "min": "0",
          "max": "1",
          "histogram": [
           {
            "bin_start": 0,
            "bin_end": 0.1,
            "count": 2
           },
           {
            "bin_start": 0.1,
            "bin_end": 0.2,
            "count": 0
           },
           {
            "bin_start": 0.2,
            "bin_end": 0.30000000000000004,
            "count": 0
           },
           {
            "bin_start": 0.30000000000000004,
            "bin_end": 0.4,
            "count": 0
           },
           {
            "bin_start": 0.4,
            "bin_end": 0.5,
            "count": 0
           },
           {
            "bin_start": 0.5,
            "bin_end": 0.6000000000000001,
            "count": 0
           },
           {
            "bin_start": 0.6000000000000001,
            "bin_end": 0.7000000000000001,
            "count": 0
           },
           {
            "bin_start": 0.7000000000000001,
            "bin_end": 0.8,
            "count": 0
           },
           {
            "bin_start": 0.8,
            "bin_end": 0.9,
            "count": 0
           },
           {
            "bin_start": 0.9,
            "bin_end": 1,
            "count": 1
           }
          ]
         }
        },
        {
         "name": "_deepnote_index_column",
         "dtype": "int64"
        }
       ],
       "rows": [
        {
         "ID": 5524,
         "Year_Birth": 1957,
         "Education": "Graduation",
         "Marital_Status": "Single",
         "Income": 58138,
         "Kidhome": 0,
         "Teenhome": 0,
         "Dt_Customer": "04-09-2012",
         "Recency": 58,
         "MntWines": 635,
         "MntFruits": 88,
         "MntMeatProducts": 546,
         "MntFishProducts": 172,
         "MntSweetProducts": 88,
         "MntGoldProds": 88,
         "NumDealsPurchases": 3,
         "NumWebPurchases": 8,
         "NumCatalogPurchases": 10,
         "NumStorePurchases": 4,
         "NumWebVisitsMonth": 7,
         "AcceptedCmp3": 0,
         "AcceptedCmp4": 0,
         "AcceptedCmp5": 0,
         "AcceptedCmp1": 0,
         "AcceptedCmp2": 0,
         "Complain": 0,
         "Z_CostContact": 3,
         "Z_Revenue": 11,
         "Response": 1,
         "_deepnote_index_column": 0
        },
        {
         "ID": 2174,
         "Year_Birth": 1954,
         "Education": "Graduation",
         "Marital_Status": "Single",
         "Income": 46344,
         "Kidhome": 1,
         "Teenhome": 1,
         "Dt_Customer": "08-03-2014",
         "Recency": 38,
         "MntWines": 11,
         "MntFruits": 1,
         "MntMeatProducts": 6,
         "MntFishProducts": 2,
         "MntSweetProducts": 1,
         "MntGoldProds": 6,
         "NumDealsPurchases": 2,
         "NumWebPurchases": 1,
         "NumCatalogPurchases": 1,
         "NumStorePurchases": 2,
         "NumWebVisitsMonth": 5,
         "AcceptedCmp3": 0,
         "AcceptedCmp4": 0,
         "AcceptedCmp5": 0,
         "AcceptedCmp1": 0,
         "AcceptedCmp2": 0,
         "Complain": 0,
         "Z_CostContact": 3,
         "Z_Revenue": 11,
         "Response": 0,
         "_deepnote_index_column": 1
        },
        {
         "ID": 4141,
         "Year_Birth": 1965,
         "Education": "Graduation",
         "Marital_Status": "Together",
         "Income": 71613,
         "Kidhome": 0,
         "Teenhome": 0,
         "Dt_Customer": "21-08-2013",
         "Recency": 26,
         "MntWines": 426,
         "MntFruits": 49,
         "MntMeatProducts": 127,
         "MntFishProducts": 111,
         "MntSweetProducts": 21,
         "MntGoldProds": 42,
         "NumDealsPurchases": 1,
         "NumWebPurchases": 8,
         "NumCatalogPurchases": 2,
         "NumStorePurchases": 10,
         "NumWebVisitsMonth": 4,
         "AcceptedCmp3": 0,
         "AcceptedCmp4": 0,
         "AcceptedCmp5": 0,
         "AcceptedCmp1": 0,
         "AcceptedCmp2": 0,
         "Complain": 0,
         "Z_CostContact": 3,
         "Z_Revenue": 11,
         "Response": 0,
         "_deepnote_index_column": 2
        }
       ]
      },
      "text/plain": "     ID  Year_Birth   Education Marital_Status   Income  Kidhome  Teenhome  \\\n0  5524        1957  Graduation         Single  58138.0        0         0   \n1  2174        1954  Graduation         Single  46344.0        1         1   \n2  4141        1965  Graduation       Together  71613.0        0         0   \n\n  Dt_Customer  Recency  MntWines  ...  NumWebVisitsMonth  AcceptedCmp3  \\\n0  04-09-2012       58       635  ...                  7             0   \n1  08-03-2014       38        11  ...                  5             0   \n2  21-08-2013       26       426  ...                  4             0   \n\n   AcceptedCmp4  AcceptedCmp5  AcceptedCmp1  AcceptedCmp2  Complain  \\\n0             0             0             0             0         0   \n1             0             0             0             0         0   \n2             0             0             0             0         0   \n\n   Z_CostContact  Z_Revenue  Response  \n0              3         11         1  \n1              3         11         0  \n2              3         11         0  \n\n[3 rows x 29 columns]",
      "text/html": "<div>\n<style scoped>\n    .dataframe tbody tr th:only-of-type {\n        vertical-align: middle;\n    }\n\n    .dataframe tbody tr th {\n        vertical-align: top;\n    }\n\n    .dataframe thead th {\n        text-align: right;\n    }\n</style>\n<table border=\"1\" class=\"dataframe\">\n  <thead>\n    <tr style=\"text-align: right;\">\n      <th></th>\n      <th>ID</th>\n      <th>Year_Birth</th>\n      <th>Education</th>\n      <th>Marital_Status</th>\n      <th>Income</th>\n      <th>Kidhome</th>\n      <th>Teenhome</th>\n      <th>Dt_Customer</th>\n      <th>Recency</th>\n      <th>MntWines</th>\n      <th>...</th>\n      <th>NumWebVisitsMonth</th>\n      <th>AcceptedCmp3</th>\n      <th>AcceptedCmp4</th>\n      <th>AcceptedCmp5</th>\n      <th>AcceptedCmp1</th>\n      <th>AcceptedCmp2</th>\n      <th>Complain</th>\n      <th>Z_CostContact</th>\n      <th>Z_Revenue</th>\n      <th>Response</th>\n    </tr>\n  </thead>\n  <tbody>\n    <tr>\n      <th>0</th>\n      <td>5524</td>\n      <td>1957</td>\n      <td>Graduation</td>\n      <td>Single</td>\n      <td>58138.0</td>\n      <td>0</td>\n      <td>0</td>\n      <td>04-09-2012</td>\n      <td>58</td>\n      <td>635</td>\n      <td>...</td>\n      <td>7</td>\n      <td>0</td>\n      <td>0</td>\n      <td>0</td>\n      <td>0</td>\n      <td>0</td>\n      <td>0</td>\n      <td>3</td>\n      <td>11</td>\n      <td>1</td>\n    </tr>\n    <tr>\n      <th>1</th>\n      <td>2174</td>\n      <td>1954</td>\n      <td>Graduation</td>\n      <td>Single</td>\n      <td>46344.0</td>\n      <td>1</td>\n      <td>1</td>\n      <td>08-03-2014</td>\n      <td>38</td>\n      <td>11</td>\n      <td>...</td>\n      <td>5</td>\n      <td>0</td>\n      <td>0</td>\n      <td>0</td>\n      <td>0</td>\n      <td>0</td>\n      <td>0</td>\n      <td>3</td>\n      <td>11</td>\n      <td>0</td>\n    </tr>\n    <tr>\n      <th>2</th>\n      <td>4141</td>\n      <td>1965</td>\n      <td>Graduation</td>\n      <td>Together</td>\n      <td>71613.0</td>\n      <td>0</td>\n      <td>0</td>\n      <td>21-08-2013</td>\n      <td>26</td>\n      <td>426</td>\n      <td>...</td>\n      <td>4</td>\n      <td>0</td>\n      <td>0</td>\n      <td>0</td>\n      <td>0</td>\n      <td>0</td>\n      <td>0</td>\n      <td>3</td>\n      <td>11</td>\n      <td>0</td>\n    </tr>\n  </tbody>\n</table>\n<p>3 rows × 29 columns</p>\n</div>"
     },
     "metadata": {}
    }
   ]
  },
  {
   "cell_type": "markdown",
   "source": "### CONTENIDO\n\nLas tablas de datos suelen ir acompañadas de un diccionario de datos que explica el contenido de la información contenida en una de las columnas y, en ocasiones, proporciona algún contexto empresarial. \n\n#### Gente\n\n- ID: identificador único del cliente\n- Year_Birth: año de nacimiento del cliente\n- Educación: nivel de educación del cliente\n- Marital_Status: estado civil del cliente\n- Ingresos: ingresos familiares anuales del cliente\n- Kidhome: Número de niños en el hogar del cliente\n- Teenhome: Número de adolescentes en el hogar del cliente\n- Dt_Cliente: Fecha de alta del cliente en la empresa\n- Actualidad: Número de días desde la última compra del cliente\n- Queja: 1 si el cliente se quejó en los últimos 2 años, 0 en caso contrario\n\n#### Productos\n\n- MntWines: Cantidad gastada en vino en los últimos 2 años\n- MntFruits: Cantidad gastada en frutas en los últimos 2 años\n- MntMeatProducts: cantidad gastada en carne en los últimos 2 años\n- MntFishProducts: cantidad gastada en pescado en los últimos 2 años\n- MntSweetProducts: cantidad gastada en dulces en los últimos 2 años\n- MntGoldProds: cantidad gastada en oro en los últimos 2 años\n\n\n#### Promoción\n\n- NumDealsPurchases: Número de compras realizadas con descuento\n- AcceptedCmp1: 1 si el cliente aceptó la oferta en la 1ª campaña, 0 en caso contrario\n- AcceptedCmp2: 1 si el cliente aceptó la oferta en la 2ª campaña, 0 en caso contrario\n- AcceptedCmp3: 1 si el cliente aceptó la oferta en la 3ra campaña, 0 en caso contrario\n- AcceptedCmp4: 1 si el cliente aceptó la oferta en la 4ª campaña, 0 en caso contrario\n- AcceptedCmp5: 1 si el cliente aceptó la oferta en la 5ª campaña, 0 en caso contrario\n- Respuesta: 1 si el cliente aceptó la oferta en la última campaña, 0 en caso contrario\n\n\n#### Lugar\n\n- NumWebPurchases: Número de compras realizadas a través del sitio web de la empresa\n- NumCatalogPurchases: Número de compras realizadas utilizando un catálogo\n- NumStorePurchases: Número de compras realizadas directamente en tiendas\n- NumWebVisitsMonth: Número de visitas al sitio web de la empresa en el último mes ",
   "metadata": {
    "cell_id": "5d41ee48-5dca-45c5-b552-e3ebe593c06b",
    "tags": [],
    "deepnote_cell_type": "markdown"
   }
  },
  {
   "cell_type": "markdown",
   "source": "# Feature engineering básica\n\n",
   "metadata": {
    "cell_id": "48201989-a5fe-4fd8-b3ef-94bc539aeb47",
    "tags": [],
    "deepnote_cell_type": "markdown"
   }
  },
  {
   "cell_type": "markdown",
   "source": "# Limpieza de Datos",
   "metadata": {
    "cell_id": "0e54b084-f8ad-4708-b36c-9323e6994b53",
    "tags": [],
    "deepnote_cell_type": "markdown"
   }
  },
  {
   "cell_type": "markdown",
   "source": "### Limpieza de datos numéricos\n\nEn las ocasiones que tengamos valores inútiles, vacíos, nulos o con diferente formato al esperado, tendremos dos opciones:\n- Eliminar toda la columna\n- Eliminar toda la fila que contiene ese valor erróneo. (Como fue hecho anteriormente)\n- Reemplazar el valor por el valor correcto conocido (En caso de ser posible)\n- Reemplazar el valor por un valor lo más posible al esperado (Interpolación y métodos similares)",
   "metadata": {
    "cell_id": "65ab6e8a-da9f-441e-bac6-a9de522dc711",
    "tags": [],
    "deepnote_cell_type": "markdown"
   }
  },
  {
   "cell_type": "markdown",
   "source": "#### Ejemplo 1\n\nEn algunas ocasiones, será útil o necesario eliminar información que no va a ser necesaria en el análisis. En este caso, el `ID` del cliente puede ser una de esas variables",
   "metadata": {
    "cell_id": "d057f226-4ba2-429a-a11d-56ad6befb313",
    "tags": [],
    "deepnote_cell_type": "markdown"
   }
  },
  {
   "cell_type": "code",
   "metadata": {
    "cell_id": "36b2a15a-be82-4809-84df-3ec9014e97e4",
    "tags": [],
    "deepnote_to_be_reexecuted": false,
    "source_hash": "2f4623d9",
    "execution_start": 1646176797832,
    "execution_millis": 6,
    "deepnote_cell_type": "code"
   },
   "source": "print(df_customers.columns)",
   "execution_count": null,
   "outputs": [
    {
     "name": "stdout",
     "text": "Index(['ID', 'Year_Birth', 'Education', 'Marital_Status', 'Income', 'Kidhome',\n       'Teenhome', 'Dt_Customer', 'Recency', 'MntWines', 'MntFruits',\n       'MntMeatProducts', 'MntFishProducts', 'MntSweetProducts',\n       'MntGoldProds', 'NumDealsPurchases', 'NumWebPurchases',\n       'NumCatalogPurchases', 'NumStorePurchases', 'NumWebVisitsMonth',\n       'AcceptedCmp3', 'AcceptedCmp4', 'AcceptedCmp5', 'AcceptedCmp1',\n       'AcceptedCmp2', 'Complain', 'Z_CostContact', 'Z_Revenue', 'Response'],\n      dtype='object')\n",
     "output_type": "stream"
    }
   ]
  },
  {
   "cell_type": "code",
   "metadata": {
    "cell_id": "cc60c986-0de0-41a6-9944-77e95a18217d",
    "tags": [],
    "deepnote_to_be_reexecuted": false,
    "source_hash": "8d69f40c",
    "execution_start": 1646176797839,
    "execution_millis": 2,
    "deepnote_cell_type": "code"
   },
   "source": "df_customers.drop(columns=['ID'],inplace = True)",
   "execution_count": null,
   "outputs": []
  },
  {
   "cell_type": "code",
   "metadata": {
    "cell_id": "72e1077a-7dad-4502-8442-8d0af6239b03",
    "tags": [],
    "deepnote_to_be_reexecuted": false,
    "source_hash": "2f4623d9",
    "execution_start": 1646176797888,
    "execution_millis": 0,
    "deepnote_cell_type": "code"
   },
   "source": "print(df_customers.columns)",
   "execution_count": null,
   "outputs": [
    {
     "name": "stdout",
     "text": "Index(['Year_Birth', 'Education', 'Marital_Status', 'Income', 'Kidhome',\n       'Teenhome', 'Dt_Customer', 'Recency', 'MntWines', 'MntFruits',\n       'MntMeatProducts', 'MntFishProducts', 'MntSweetProducts',\n       'MntGoldProds', 'NumDealsPurchases', 'NumWebPurchases',\n       'NumCatalogPurchases', 'NumStorePurchases', 'NumWebVisitsMonth',\n       'AcceptedCmp3', 'AcceptedCmp4', 'AcceptedCmp5', 'AcceptedCmp1',\n       'AcceptedCmp2', 'Complain', 'Z_CostContact', 'Z_Revenue', 'Response'],\n      dtype='object')\n",
     "output_type": "stream"
    }
   ]
  },
  {
   "cell_type": "markdown",
   "source": "#### Ejercicio 1\n\nEscoja alguna variable que considere que no sea importante para el análisis y elimínela.",
   "metadata": {
    "cell_id": "beda6d46-6f77-4cf4-b991-b39392e37c8a",
    "tags": [],
    "deepnote_cell_type": "markdown"
   }
  },
  {
   "cell_type": "markdown",
   "source": "**Respuesta**",
   "metadata": {
    "cell_id": "f3a4b511-29ed-43a4-b019-6c3cb309c901",
    "tags": [],
    "deepnote_cell_type": "markdown"
   }
  },
  {
   "cell_type": "markdown",
   "source": "#### Ejemplo 2\n\nObservemos nuevamente el comportamiento de los datos en la columna `YearBirth` (Año de nacimiento)",
   "metadata": {
    "cell_id": "bc7d47d3-b330-422f-ab98-478364b86301",
    "tags": [],
    "deepnote_cell_type": "markdown"
   }
  },
  {
   "cell_type": "code",
   "metadata": {
    "cell_id": "54985105-307c-4d25-ada8-bf1c914f30a0",
    "tags": [],
    "deepnote_to_be_reexecuted": false,
    "source_hash": "52916448",
    "execution_start": 1646176797889,
    "execution_millis": 321,
    "deepnote_cell_type": "code"
   },
   "source": "sns.histplot(df_customers['Year_Birth'])",
   "execution_count": null,
   "outputs": [
    {
     "output_type": "execute_result",
     "execution_count": 6,
     "data": {
      "text/plain": "<AxesSubplot:xlabel='Year_Birth', ylabel='Count'>"
     },
     "metadata": {}
    },
    {
     "data": {
      "text/plain": "<Figure size 432x288 with 1 Axes>",
      "image/png": "[encoded data removed]"
     },
     "metadata": {
      "needs_background": "light",
      "image/png": {
       "width": 398,
       "height": 263
      }
     },
     "output_type": "display_data"
    }
   ]
  },
  {
   "cell_type": "markdown",
   "source": "Habíamos observado anteriormente que estos datos tenían un error en los valores. Dado que algunos años son muy bajos. Por lo tanto existe la necesidad de removerlos",
   "metadata": {
    "cell_id": "de0ced32-fa4a-498f-9cb4-a55257d484bb",
    "tags": [],
    "deepnote_cell_type": "markdown"
   }
  },
  {
   "cell_type": "code",
   "metadata": {
    "cell_id": "57dc96d9-e845-4646-bdbe-9df9f46f3452",
    "tags": [],
    "deepnote_to_be_reexecuted": false,
    "source_hash": "f839bc08",
    "execution_start": 1646176798211,
    "execution_millis": 250,
    "deepnote_cell_type": "code"
   },
   "source": "df_customers = df_customers[df_customers['Year_Birth']>1930]\nsns.histplot(df_customers['Year_Birth'])",
   "execution_count": null,
   "outputs": [
    {
     "output_type": "execute_result",
     "execution_count": 7,
     "data": {
      "text/plain": "<AxesSubplot:xlabel='Year_Birth', ylabel='Count'>"
     },
     "metadata": {}
    },
    {
     "data": {
      "text/plain": "<Figure size 432x288 with 1 Axes>",
      "image/png": "[encoded data removed]"
     },
     "metadata": {
      "needs_background": "light",
      "image/png": {
       "width": 389,
       "height": 263
      }
     },
     "output_type": "display_data"
    }
   ]
  },
  {
   "cell_type": "markdown",
   "source": "#### Ejercicio 2\n\nEn el caso anterior había sido identificada la existencia de un error en los valores de la columna `Marital_Status`. Solucione este problema.",
   "metadata": {
    "cell_id": "ab1fe992-5461-4731-b34f-aa7486c614af",
    "tags": [],
    "deepnote_cell_type": "markdown"
   }
  },
  {
   "cell_type": "markdown",
   "source": "**Respuesta**",
   "metadata": {
    "cell_id": "00d8057d-2efa-42d8-a249-5aa59700159a",
    "tags": [],
    "deepnote_cell_type": "markdown"
   }
  },
  {
   "cell_type": "markdown",
   "source": "# Transformación de datos",
   "metadata": {
    "cell_id": "58b55047-a6f8-43e9-aa02-b132729514e6",
    "tags": [],
    "deepnote_cell_type": "markdown"
   }
  },
  {
   "cell_type": "markdown",
   "source": "### Transformación de datos de texto\n\nMediante el uso de fórmulas de datos, será posible modificar los datos de texto para que se ajusten al análsis que requerimos. Existen gran variedad de modificaciones que pueden ser realizadas. Tales como:\n- Separar valores por un delimitador dado\n- Extraer valores importantes de un código\n- Eliminar signos de puntuación y caracteres especiales \n- Obtener palabras importantes de un texto largo",
   "metadata": {
    "cell_id": "c7699815-1b3c-4c48-b5ba-5b6cdf265b90",
    "tags": [],
    "deepnote_cell_type": "markdown"
   }
  },
  {
   "cell_type": "markdown",
   "source": "#### Ejemplo 3\n\nAlgunas veces tendremos que hacer transformaciones en el texto. Esto es de gran utilidad para trabajar con datos que contienen notas, escritos, comentarios, etc. \nEn este caso podremos eliminar el texto de la columna `Marital_Status` para quedarnos solo con la primera letra de la palabra. ",
   "metadata": {
    "cell_id": "c89b2320-14b0-4bd6-baec-6f1dc72c6d5d",
    "tags": [],
    "deepnote_cell_type": "markdown"
   }
  },
  {
   "cell_type": "code",
   "metadata": {
    "cell_id": "66eb7231-a2eb-4c37-80a2-d84dc37e79e9",
    "tags": [],
    "deepnote_to_be_reexecuted": false,
    "source_hash": "7fad006b",
    "execution_start": 1646176798459,
    "execution_millis": 14,
    "deepnote_cell_type": "code"
   },
   "source": "df_customers['Marital_Status'].head(5)",
   "execution_count": null,
   "outputs": [
    {
     "output_type": "execute_result",
     "execution_count": 8,
     "data": {
      "text/plain": "0      Single\n1      Single\n2    Together\n3    Together\n4     Married\nName: Marital_Status, dtype: object"
     },
     "metadata": {}
    }
   ]
  },
  {
   "cell_type": "code",
   "metadata": {
    "cell_id": "a01e5d66-34bf-43ff-a7f8-9f9917924510",
    "tags": [],
    "deepnote_to_be_reexecuted": false,
    "source_hash": "f80cdae2",
    "execution_start": 1646176798516,
    "execution_millis": 3,
    "deepnote_cell_type": "code"
   },
   "source": "df_customers['Marital_Status'] = df_customers['Marital_Status'].str[0]\ndf_customers['Marital_Status'].head(5)",
   "execution_count": null,
   "outputs": [
    {
     "output_type": "execute_result",
     "execution_count": 9,
     "data": {
      "text/plain": "0    S\n1    S\n2    T\n3    T\n4    M\nName: Marital_Status, dtype: object"
     },
     "metadata": {}
    }
   ]
  },
  {
   "cell_type": "markdown",
   "source": "#### Ejercicio 3\n\nDe los datos ubicados en la columna `Education` conserve únicamente la primera letra.",
   "metadata": {
    "cell_id": "010e360b-31a4-47c5-8012-ae487229f196",
    "tags": [],
    "deepnote_cell_type": "markdown"
   }
  },
  {
   "cell_type": "markdown",
   "source": "**Respuesta**",
   "metadata": {
    "cell_id": "1070621c-1591-4a44-99a8-dfe5d65c89c9",
    "tags": [],
    "deepnote_cell_type": "markdown"
   }
  },
  {
   "cell_type": "markdown",
   "source": "### Transformación de datos numéricos\n\nLos datos numéricos también pueden ser modificados. Algunas veces no tenemos todas las variables que necesitamos para nuestro análisis listas para usar, y podemos usar las existentes para crear nuevas variables que sean más relevantes. (Utilizado en la mayoría de las situaciones prácticas).",
   "metadata": {
    "cell_id": "5309e5b4-7fc2-46b7-b2ec-296be33bde9e",
    "tags": [],
    "deepnote_cell_type": "markdown"
   }
  },
  {
   "cell_type": "markdown",
   "source": "#### Ejemplo 4\nAgreguemos una nueva columna con la edad de los clientes",
   "metadata": {
    "cell_id": "31b48195-b5dc-444b-9767-44e282321f3c",
    "tags": [],
    "deepnote_cell_type": "markdown"
   }
  },
  {
   "cell_type": "code",
   "metadata": {
    "cell_id": "e8b9ed06-861b-46a3-89fd-957dff152119",
    "tags": [],
    "deepnote_to_be_reexecuted": false,
    "source_hash": "4a869b32",
    "execution_start": 1646176798517,
    "execution_millis": 28,
    "deepnote_cell_type": "code"
   },
   "source": "df_customers['Age'] = 2022 - df_customers['Year_Birth']\ndf_customers.head(5)",
   "execution_count": null,
   "outputs": [
    {
     "output_type": "execute_result",
     "execution_count": 10,
     "data": {
      "application/vnd.deepnote.dataframe.v3+json": {
       "column_count": 29,
       "row_count": 5,
       "columns": [
        {
         "name": "Year_Birth",
         "dtype": "int64",
         "stats": {
          "unique_count": 5,
          "nan_count": 0,
          "min": "1954",
          "max": "1984",
          "histogram": [
           {
            "bin_start": 1954,
            "bin_end": 1957,
            "count": 1
           },
           {
            "bin_start": 1957,
            "bin_end": 1960,
            "count": 1
           },
           {
            "bin_start": 1960,
            "bin_end": 1963,
            "count": 0
           },
           {
            "bin_start": 1963,
            "bin_end": 1966,
            "count": 1
           },
           {
            "bin_start": 1966,
            "bin_end": 1969,
            "count": 0
           },
           {
            "bin_start": 1969,
            "bin_end": 1972,
            "count": 0
           },
           {
            "bin_start": 1972,
            "bin_end": 1975,
            "count": 0
           },
           {
            "bin_start": 1975,
            "bin_end": 1978,
            "count": 0
           },
           {
            "bin_start": 1978,
            "bin_end": 1981,
            "count": 0
           },
           {
            "bin_start": 1981,
            "bin_end": 1984,
            "count": 2
           }
          ]
         }
        },
        {
         "name": "Education",
         "dtype": "object",
         "stats": {
          "unique_count": 2,
          "nan_count": 0,
          "categories": [
           {
            "name": "Graduation",
            "count": 4
           },
           {
            "name": "PhD",
            "count": 1
           }
          ]
         }
        },
        {
         "name": "Marital_Status",
         "dtype": "object",
         "stats": {
          "unique_count": 3,
          "nan_count": 0,
          "categories": [
           {
            "name": "S",
            "count": 2
           },
           {
            "name": "T",
            "count": 2
           },
           {
            "name": "M",
            "count": 1
           }
          ]
         }
        },
        {
         "name": "Income",
         "dtype": "float64",
         "stats": {
          "unique_count": 5,
          "nan_count": 0,
          "min": "26646.0",
          "max": "71613.0",
          "histogram": [
           {
            "bin_start": 26646,
            "bin_end": 31142.7,
            "count": 1
           },
           {
            "bin_start": 31142.7,
            "bin_end": 35639.4,
            "count": 0
           },
           {
            "bin_start": 35639.4,
            "bin_end": 40136.1,
            "count": 0
           },
           {
            "bin_start": 40136.1,
            "bin_end": 44632.8,
            "count": 0
           },
           {
            "bin_start": 44632.8,
            "bin_end": 49129.5,
            "count": 1
           },
           {
            "bin_start": 49129.5,
            "bin_end": 53626.2,
            "count": 0
           },
           {
            "bin_start": 53626.2,
            "bin_end": 58122.899999999994,
            "count": 0
           },
           {
            "bin_start": 58122.899999999994,
            "bin_end": 62619.6,
            "count": 2
           },
           {
            "bin_start": 62619.6,
            "bin_end": 67116.29999999999,
            "count": 0
           },
           {
            "bin_start": 67116.29999999999,
            "bin_end": 71613,
            "count": 1
           }
          ]
         }
        },
        {
         "name": "Kidhome",
         "dtype": "int64",
         "stats": {
          "unique_count": 2,
          "nan_count": 0,
          "min": "0",
          "max": "1",
          "histogram": [
           {
            "bin_start": 0,
            "bin_end": 0.1,
            "count": 2
           },
           {
            "bin_start": 0.1,
            "bin_end": 0.2,
            "count": 0
           },
           {
            "bin_start": 0.2,
            "bin_end": 0.30000000000000004,
            "count": 0
           },
           {
            "bin_start": 0.30000000000000004,
            "bin_end": 0.4,
            "count": 0
           },
           {
            "bin_start": 0.4,
            "bin_end": 0.5,
            "count": 0
           },
           {
            "bin_start": 0.5,
            "bin_end": 0.6000000000000001,
            "count": 0
           },
           {
            "bin_start": 0.6000000000000001,
            "bin_end": 0.7000000000000001,
            "count": 0
           },
           {
            "bin_start": 0.7000000000000001,
            "bin_end": 0.8,
            "count": 0
           },
           {
            "bin_start": 0.8,
            "bin_end": 0.9,
            "count": 0
           },
           {
            "bin_start": 0.9,
            "bin_end": 1,
            "count": 3
           }
          ]
         }
        },
        {
         "name": "Teenhome",
         "dtype": "int64",
         "stats": {
          "unique_count": 2,
          "nan_count": 0,
          "min": "0",
          "max": "1",
          "histogram": [
           {
            "bin_start": 0,
            "bin_end": 0.1,
            "count": 4
           },
           {
            "bin_start": 0.1,
            "bin_end": 0.2,
            "count": 0
           },
           {
            "bin_start": 0.2,
            "bin_end": 0.30000000000000004,
            "count": 0
           },
           {
            "bin_start": 0.30000000000000004,
            "bin_end": 0.4,
            "count": 0
           },
           {
            "bin_start": 0.4,
            "bin_end": 0.5,
            "count": 0
           },
           {
            "bin_start": 0.5,
            "bin_end": 0.6000000000000001,
            "count": 0
           },
           {
            "bin_start": 0.6000000000000001,
            "bin_end": 0.7000000000000001,
            "count": 0
           },
           {
            "bin_start": 0.7000000000000001,
            "bin_end": 0.8,
            "count": 0
           },
           {
            "bin_start": 0.8,
            "bin_end": 0.9,
            "count": 0
           },
           {
            "bin_start": 0.9,
            "bin_end": 1,
            "count": 1
           }
          ]
         }
        },
        {
         "name": "Dt_Customer",
         "dtype": "object",
         "stats": {
          "unique_count": 5,
          "nan_count": 0,
          "categories": [
           {
            "name": "04-09-2012",
            "count": 1
           },
           {
            "name": "08-03-2014",
            "count": 1
           },
           {
            "name": "3 others",
            "count": 3
           }
          ]
         }
        },
        {
         "name": "Recency",
         "dtype": "int64",
         "stats": {
          "unique_count": 4,
          "nan_count": 0,
          "min": "26",
          "max": "94",
          "histogram": [
           {
            "bin_start": 26,
            "bin_end": 32.8,
            "count": 2
           },
           {
            "bin_start": 32.8,
            "bin_end": 39.6,
            "count": 1
           },
           {
            "bin_start": 39.6,
            "bin_end": 46.4,
            "count": 0
           },
           {
            "bin_start": 46.4,
            "bin_end": 53.2,
            "count": 0
           },
           {
            "bin_start": 53.2,
            "bin_end": 60,
            "count": 1
           },
           {
            "bin_start": 60,
            "bin_end": 66.8,
            "count": 0
           },
           {
            "bin_start": 66.8,
            "bin_end": 73.6,
            "count": 0
           },
           {
            "bin_start": 73.6,
            "bin_end": 80.4,
            "count": 0
           },
           {
            "bin_start": 80.4,
            "bin_end": 87.19999999999999,
            "count": 0
           },
           {
            "bin_start": 87.19999999999999,
            "bin_end": 94,
            "count": 1
           }
          ]
         }
        },
        {
         "name": "MntWines",
         "dtype": "int64",
         "stats": {
          "unique_count": 4,
          "nan_count": 0,
          "min": "11",
          "max": "635",
          "histogram": [
           {
            "bin_start": 11,
            "bin_end": 73.4,
            "count": 2
           },
           {
            "bin_start": 73.4,
            "bin_end": 135.8,
            "count": 0
           },
           {
            "bin_start": 135.8,
            "bin_end": 198.2,
            "count": 1
           },
           {
            "bin_start": 198.2,
            "bin_end": 260.6,
            "count": 0
           },
           {
            "bin_start": 260.6,
            "bin_end": 323,
            "count": 0
           },
           {
            "bin_start": 323,
            "bin_end": 385.4,
            "count": 0
           },
           {
            "bin_start": 385.4,
            "bin_end": 447.8,
            "count": 1
           },
           {
            "bin_start": 447.8,
            "bin_end": 510.2,
            "count": 0
           },
           {
            "bin_start": 510.2,
            "bin_end": 572.6,
            "count": 0
           },
           {
            "bin_start": 572.6,
            "bin_end": 635,
            "count": 1
           }
          ]
         }
        },
        {
         "name": "MntFruits",
         "dtype": "int64",
         "stats": {
          "unique_count": 5,
          "nan_count": 0,
          "min": "1",
          "max": "88",
          "histogram": [
           {
            "bin_start": 1,
            "bin_end": 9.7,
            "count": 2
           },
           {
            "bin_start": 9.7,
            "bin_end": 18.4,
            "count": 0
           },
           {
            "bin_start": 18.4,
            "bin_end": 27.099999999999998,
            "count": 0
           },
           {
            "bin_start": 27.099999999999998,
            "bin_end": 35.8,
            "count": 0
           },
           {
            "bin_start": 35.8,
            "bin_end": 44.5,
            "count": 1
           },
           {
            "bin_start": 44.5,
            "bin_end": 53.199999999999996,
            "count": 1
           },
           {
            "bin_start": 53.199999999999996,
            "bin_end": 61.89999999999999,
            "count": 0
           },
           {
            "bin_start": 61.89999999999999,
            "bin_end": 70.6,
            "count": 0
           },
           {
            "bin_start": 70.6,
            "bin_end": 79.3,
            "count": 0
           },
           {
            "bin_start": 79.3,
            "bin_end": 88,
            "count": 1
           }
          ]
         }
        },
        {
         "name": "MntMeatProducts",
         "dtype": "int64",
         "stats": {
          "unique_count": 5,
          "nan_count": 0,
          "min": "6",
          "max": "546",
          "histogram": [
           {
            "bin_start": 6,
            "bin_end": 60,
            "count": 2
           },
           {
            "bin_start": 60,
            "bin_end": 114,
            "count": 0
           },
           {
            "bin_start": 114,
            "bin_end": 168,
            "count": 2
           },
           {
            "bin_start": 168,
            "bin_end": 222,
            "count": 0
           },
           {
            "bin_start": 222,
            "bin_end": 276,
            "count": 0
           },
           {
            "bin_start": 276,
            "bin_end": 330,
            "count": 0
           },
           {
            "bin_start": 330,
            "bin_end": 384,
            "count": 0
           },
           {
            "bin_start": 384,
            "bin_end": 438,
            "count": 0
           },
           {
            "bin_start": 438,
            "bin_end": 492,
            "count": 0
           },
           {
            "bin_start": 492,
            "bin_end": 546,
            "count": 1
           }
          ]
         }
        },
        {
         "name": "MntFishProducts",
         "dtype": "int64",
         "stats": {
          "unique_count": 5,
          "nan_count": 0,
          "min": "2",
          "max": "172",
          "histogram": [
           {
            "bin_start": 2,
            "bin_end": 19,
            "count": 2
           },
           {
            "bin_start": 19,
            "bin_end": 36,
            "count": 0
           },
           {
            "bin_start": 36,
            "bin_end": 53,
            "count": 1
           },
           {
            "bin_start": 53,
            "bin_end": 70,
            "count": 0
           },
           {
            "bin_start": 70,
            "bin_end": 87,
            "count": 0
           },
           {
            "bin_start": 87,
            "bin_end": 104,
            "count": 0
           },
           {
            "bin_start": 104,
            "bin_end": 121,
            "count": 1
           },
           {
            "bin_start": 121,
            "bin_end": 138,
            "count": 0
           },
           {
            "bin_start": 138,
            "bin_end": 155,
            "count": 0
           },
           {
            "bin_start": 155,
            "bin_end": 172,
            "count": 1
           }
          ]
         }
        },
        {
         "name": "MntSweetProducts",
         "dtype": "int64",
         "stats": {
          "unique_count": 5,
          "nan_count": 0,
          "min": "1",
          "max": "88",
          "histogram": [
           {
            "bin_start": 1,
            "bin_end": 9.7,
            "count": 2
           },
           {
            "bin_start": 9.7,
            "bin_end": 18.4,
            "count": 0
           },
           {
            "bin_start": 18.4,
            "bin_end": 27.099999999999998,
            "count": 2
           },
           {
            "bin_start": 27.099999999999998,
            "bin_end": 35.8,
            "count": 0
           },
           {
            "bin_start": 35.8,
            "bin_end": 44.5,
            "count": 0
           },
           {
            "bin_start": 44.5,
            "bin_end": 53.199999999999996,
            "count": 0
           },
           {
            "bin_start": 53.199999999999996,
            "bin_end": 61.89999999999999,
            "count": 0
           },
           {
            "bin_start": 61.89999999999999,
            "bin_end": 70.6,
            "count": 0
           },
           {
            "bin_start": 70.6,
            "bin_end": 79.3,
            "count": 0
           },
           {
            "bin_start": 79.3,
            "bin_end": 88,
            "count": 1
           }
          ]
         }
        },
        {
         "name": "MntGoldProds",
         "dtype": "int64",
         "stats": {
          "unique_count": 5,
          "nan_count": 0,
          "min": "5",
          "max": "88",
          "histogram": [
           {
            "bin_start": 5,
            "bin_end": 13.3,
            "count": 2
           },
           {
            "bin_start": 13.3,
            "bin_end": 21.6,
            "count": 1
           },
           {
            "bin_start": 21.6,
            "bin_end": 29.900000000000002,
            "count": 0
           },
           {
            "bin_start": 29.900000000000002,
            "bin_end": 38.2,
            "count": 0
           },
           {
            "bin_start": 38.2,
            "bin_end": 46.5,
            "count": 1
           },
           {
            "bin_start": 46.5,
            "bin_end": 54.800000000000004,
            "count": 0
           },
           {
            "bin_start": 54.800000000000004,
            "bin_end": 63.10000000000001,
            "count": 0
           },
           {
            "bin_start": 63.10000000000001,
            "bin_end": 71.4,
            "count": 0
           },
           {
            "bin_start": 71.4,
            "bin_end": 79.7,
            "count": 0
           },
           {
            "bin_start": 79.7,
            "bin_end": 88,
            "count": 1
           }
          ]
         }
        },
        {
         "name": "NumDealsPurchases",
         "dtype": "int64",
         "stats": {
          "unique_count": 4,
          "nan_count": 0,
          "min": "1",
          "max": "5",
          "histogram": [
           {
            "bin_start": 1,
            "bin_end": 1.4,
            "count": 1
           },
           {
            "bin_start": 1.4,
            "bin_end": 1.8,
            "count": 0
           },
           {
            "bin_start": 1.8,
            "bin_end": 2.2,
            "count": 2
           },
           {
            "bin_start": 2.2,
            "bin_end": 2.6,
            "count": 0
           },
           {
            "bin_start": 2.6,
            "bin_end": 3,
            "count": 0
           },
           {
            "bin_start": 3,
            "bin_end": 3.4000000000000004,
            "count": 1
           },
           {
            "bin_start": 3.4000000000000004,
            "bin_end": 3.8000000000000003,
            "count": 0
           },
           {
            "bin_start": 3.8000000000000003,
            "bin_end": 4.2,
            "count": 0
           },
           {
            "bin_start": 4.2,
            "bin_end": 4.6,
            "count": 0
           },
           {
            "bin_start": 4.6,
            "bin_end": 5,
            "count": 1
           }
          ]
         }
        },
        {
         "name": "NumWebPurchases",
         "dtype": "int64",
         "stats": {
          "unique_count": 4,
          "nan_count": 0,
          "min": "1",
          "max": "8",
          "histogram": [
           {
            "bin_start": 1,
            "bin_end": 1.7,
            "count": 1
           },
           {
            "bin_start": 1.7,
            "bin_end": 2.4,
            "count": 1
           },
           {
            "bin_start": 2.4,
            "bin_end": 3.0999999999999996,
            "count": 0
           },
           {
            "bin_start": 3.0999999999999996,
            "bin_end": 3.8,
            "count": 0
           },
           {
            "bin_start": 3.8,
            "bin_end": 4.5,
            "count": 0
           },
           {
            "bin_start": 4.5,
            "bin_end": 5.199999999999999,
            "count": 1
           },
           {
            "bin_start": 5.199999999999999,
            "bin_end": 5.8999999999999995,
            "count": 0
           },
           {
            "bin_start": 5.8999999999999995,
            "bin_end": 6.6,
            "count": 0
           },
           {
            "bin_start": 6.6,
            "bin_end": 7.3,
            "count": 0
           },
           {
            "bin_start": 7.3,
            "bin_end": 8,
            "count": 2
           }
          ]
         }
        },
        {
         "name": "NumCatalogPurchases",
         "dtype": "int64",
         "stats": {
          "unique_count": 5,
          "nan_count": 0,
          "min": "0",
          "max": "10",
          "histogram": [
           {
            "bin_start": 0,
            "bin_end": 1,
            "count": 1
           },
           {
            "bin_start": 1,
            "bin_end": 2,
            "count": 1
           },
           {
            "bin_start": 2,
            "bin_end": 3,
            "count": 1
           },
           {
            "bin_start": 3,
            "bin_end": 4,
            "count": 1
           },
           {
            "bin_start": 4,
            "bin_end": 5,
            "count": 0
           },
           {
            "bin_start": 5,
            "bin_end": 6,
            "count": 0
           },
           {
            "bin_start": 6,
            "bin_end": 7,
            "count": 0
           },
           {
            "bin_start": 7,
            "bin_end": 8,
            "count": 0
           },
           {
            "bin_start": 8,
            "bin_end": 9,
            "count": 0
           },
           {
            "bin_start": 9,
            "bin_end": 10,
            "count": 1
           }
          ]
         }
        },
        {
         "name": "NumStorePurchases",
         "dtype": "int64",
         "stats": {
          "unique_count": 4,
          "nan_count": 0,
          "min": "2",
          "max": "10",
          "histogram": [
           {
            "bin_start": 2,
            "bin_end": 2.8,
            "count": 1
           },
           {
            "bin_start": 2.8,
            "bin_end": 3.6,
            "count": 0
           },
           {
            "bin_start": 3.6,
            "bin_end": 4.4,
            "count": 2
           },
           {
            "bin_start": 4.4,
            "bin_end": 5.2,
            "count": 0
           },
           {
            "bin_start": 5.2,
            "bin_end": 6,
            "count": 0
           },
           {
            "bin_start": 6,
            "bin_end": 6.800000000000001,
            "count": 1
           },
           {
            "bin_start": 6.800000000000001,
            "bin_end": 7.6000000000000005,
            "count": 0
           },
           {
            "bin_start": 7.6000000000000005,
            "bin_end": 8.4,
            "count": 0
           },
           {
            "bin_start": 8.4,
            "bin_end": 9.2,
            "count": 0
           },
           {
            "bin_start": 9.2,
            "bin_end": 10,
            "count": 1
           }
          ]
         }
        },
        {
         "name": "NumWebVisitsMonth",
         "dtype": "int64",
         "stats": {
          "unique_count": 4,
          "nan_count": 0,
          "min": "4",
          "max": "7",
          "histogram": [
           {
            "bin_start": 4,
            "bin_end": 4.3,
            "count": 1
           },
           {
            "bin_start": 4.3,
            "bin_end": 4.6,
            "count": 0
           },
           {
            "bin_start": 4.6,
            "bin_end": 4.9,
            "count": 0
           },
           {
            "bin_start": 4.9,
            "bin_end": 5.2,
            "count": 2
           },
           {
            "bin_start": 5.2,
            "bin_end": 5.5,
            "count": 0
           },
           {
            "bin_start": 5.5,
            "bin_end": 5.8,
            "count": 0
           },
           {
            "bin_start": 5.8,
            "bin_end": 6.1,
            "count": 1
           },
           {
            "bin_start": 6.1,
            "bin_end": 6.4,
            "count": 0
           },
           {
            "bin_start": 6.4,
            "bin_end": 6.699999999999999,
            "count": 0
           },
           {
            "bin_start": 6.699999999999999,
            "bin_end": 7,
            "count": 1
           }
          ]
         }
        },
        {
         "name": "AcceptedCmp3",
         "dtype": "int64",
         "stats": {
          "unique_count": 1,
          "nan_count": 0,
          "min": "0",
          "max": "0",
          "histogram": [
           {
            "bin_start": -0.5,
            "bin_end": -0.4,
            "count": 0
           },
           {
            "bin_start": -0.4,
            "bin_end": -0.3,
            "count": 0
           },
           {
            "bin_start": -0.3,
            "bin_end": -0.19999999999999996,
            "count": 0
           },
           {
            "bin_start": -0.19999999999999996,
            "bin_end": -0.09999999999999998,
            "count": 0
           },
           {
            "bin_start": -0.09999999999999998,
            "bin_end": 0,
            "count": 0
           },
           {
            "bin_start": 0,
            "bin_end": 0.10000000000000009,
            "count": 5
           },
           {
            "bin_start": 0.10000000000000009,
            "bin_end": 0.20000000000000007,
            "count": 0
           },
           {
            "bin_start": 0.20000000000000007,
            "bin_end": 0.30000000000000004,
            "count": 0
           },
           {
            "bin_start": 0.30000000000000004,
            "bin_end": 0.4,
            "count": 0
           },
           {
            "bin_start": 0.4,
            "bin_end": 0.5,
            "count": 0
           }
          ]
         }
        },
        {
         "name": "AcceptedCmp4",
         "dtype": "int64",
         "stats": {
          "unique_count": 1,
          "nan_count": 0,
          "min": "0",
          "max": "0",
          "histogram": [
           {
            "bin_start": -0.5,
            "bin_end": -0.4,
            "count": 0
           },
           {
            "bin_start": -0.4,
            "bin_end": -0.3,
            "count": 0
           },
           {
            "bin_start": -0.3,
            "bin_end": -0.19999999999999996,
            "count": 0
           },
           {
            "bin_start": -0.19999999999999996,
            "bin_end": -0.09999999999999998,
            "count": 0
           },
           {
            "bin_start": -0.09999999999999998,
            "bin_end": 0,
            "count": 0
           },
           {
            "bin_start": 0,
            "bin_end": 0.10000000000000009,
            "count": 5
           },
           {
            "bin_start": 0.10000000000000009,
            "bin_end": 0.20000000000000007,
            "count": 0
           },
           {
            "bin_start": 0.20000000000000007,
            "bin_end": 0.30000000000000004,
            "count": 0
           },
           {
            "bin_start": 0.30000000000000004,
            "bin_end": 0.4,
            "count": 0
           },
           {
            "bin_start": 0.4,
            "bin_end": 0.5,
            "count": 0
           }
          ]
         }
        },
        {
         "name": "AcceptedCmp5",
         "dtype": "int64",
         "stats": {
          "unique_count": 1,
          "nan_count": 0,
          "min": "0",
          "max": "0",
          "histogram": [
           {
            "bin_start": -0.5,
            "bin_end": -0.4,
            "count": 0
           },
           {
            "bin_start": -0.4,
            "bin_end": -0.3,
            "count": 0
           },
           {
            "bin_start": -0.3,
            "bin_end": -0.19999999999999996,
            "count": 0
           },
           {
            "bin_start": -0.19999999999999996,
            "bin_end": -0.09999999999999998,
            "count": 0
           },
           {
            "bin_start": -0.09999999999999998,
            "bin_end": 0,
            "count": 0
           },
           {
            "bin_start": 0,
            "bin_end": 0.10000000000000009,
            "count": 5
           },
           {
            "bin_start": 0.10000000000000009,
            "bin_end": 0.20000000000000007,
            "count": 0
           },
           {
            "bin_start": 0.20000000000000007,
            "bin_end": 0.30000000000000004,
            "count": 0
           },
           {
            "bin_start": 0.30000000000000004,
            "bin_end": 0.4,
            "count": 0
           },
           {
            "bin_start": 0.4,
            "bin_end": 0.5,
            "count": 0
           }
          ]
         }
        },
        {
         "name": "AcceptedCmp1",
         "dtype": "int64",
         "stats": {
          "unique_count": 1,
          "nan_count": 0,
          "min": "0",
          "max": "0",
          "histogram": [
           {
            "bin_start": -0.5,
            "bin_end": -0.4,
            "count": 0
           },
           {
            "bin_start": -0.4,
            "bin_end": -0.3,
            "count": 0
           },
           {
            "bin_start": -0.3,
            "bin_end": -0.19999999999999996,
            "count": 0
           },
           {
            "bin_start": -0.19999999999999996,
            "bin_end": -0.09999999999999998,
            "count": 0
           },
           {
            "bin_start": -0.09999999999999998,
            "bin_end": 0,
            "count": 0
           },
           {
            "bin_start": 0,
            "bin_end": 0.10000000000000009,
            "count": 5
           },
           {
            "bin_start": 0.10000000000000009,
            "bin_end": 0.20000000000000007,
            "count": 0
           },
           {
            "bin_start": 0.20000000000000007,
            "bin_end": 0.30000000000000004,
            "count": 0
           },
           {
            "bin_start": 0.30000000000000004,
            "bin_end": 0.4,
            "count": 0
           },
           {
            "bin_start": 0.4,
            "bin_end": 0.5,
            "count": 0
           }
          ]
         }
        },
        {
         "name": "AcceptedCmp2",
         "dtype": "int64",
         "stats": {
          "unique_count": 1,
          "nan_count": 0,
          "min": "0",
          "max": "0",
          "histogram": [
           {
            "bin_start": -0.5,
            "bin_end": -0.4,
            "count": 0
           },
           {
            "bin_start": -0.4,
            "bin_end": -0.3,
            "count": 0
           },
           {
            "bin_start": -0.3,
            "bin_end": -0.19999999999999996,
            "count": 0
           },
           {
            "bin_start": -0.19999999999999996,
            "bin_end": -0.09999999999999998,
            "count": 0
           },
           {
            "bin_start": -0.09999999999999998,
            "bin_end": 0,
            "count": 0
           },
           {
            "bin_start": 0,
            "bin_end": 0.10000000000000009,
            "count": 5
           },
           {
            "bin_start": 0.10000000000000009,
            "bin_end": 0.20000000000000007,
            "count": 0
           },
           {
            "bin_start": 0.20000000000000007,
            "bin_end": 0.30000000000000004,
            "count": 0
           },
           {
            "bin_start": 0.30000000000000004,
            "bin_end": 0.4,
            "count": 0
           },
           {
            "bin_start": 0.4,
            "bin_end": 0.5,
            "count": 0
           }
          ]
         }
        },
        {
         "name": "Complain",
         "dtype": "int64",
         "stats": {
          "unique_count": 1,
          "nan_count": 0,
          "min": "0",
          "max": "0",
          "histogram": [
           {
            "bin_start": -0.5,
            "bin_end": -0.4,
            "count": 0
           },
           {
            "bin_start": -0.4,
            "bin_end": -0.3,
            "count": 0
           },
           {
            "bin_start": -0.3,
            "bin_end": -0.19999999999999996,
            "count": 0
           },
           {
            "bin_start": -0.19999999999999996,
            "bin_end": -0.09999999999999998,
            "count": 0
           },
           {
            "bin_start": -0.09999999999999998,
            "bin_end": 0,
            "count": 0
           },
           {
            "bin_start": 0,
            "bin_end": 0.10000000000000009,
            "count": 5
           },
           {
            "bin_start": 0.10000000000000009,
            "bin_end": 0.20000000000000007,
            "count": 0
           },
           {
            "bin_start": 0.20000000000000007,
            "bin_end": 0.30000000000000004,
            "count": 0
           },
           {
            "bin_start": 0.30000000000000004,
            "bin_end": 0.4,
            "count": 0
           },
           {
            "bin_start": 0.4,
            "bin_end": 0.5,
            "count": 0
           }
          ]
         }
        },
        {
         "name": "Z_CostContact",
         "dtype": "int64",
         "stats": {
          "unique_count": 1,
          "nan_count": 0,
          "min": "3",
          "max": "3",
          "histogram": [
           {
            "bin_start": 2.5,
            "bin_end": 2.6,
            "count": 0
           },
           {
            "bin_start": 2.6,
            "bin_end": 2.7,
            "count": 0
           },
           {
            "bin_start": 2.7,
            "bin_end": 2.8,
            "count": 0
           },
           {
            "bin_start": 2.8,
            "bin_end": 2.9,
            "count": 0
           },
           {
            "bin_start": 2.9,
            "bin_end": 3,
            "count": 0
           },
           {
            "bin_start": 3,
            "bin_end": 3.1,
            "count": 5
           },
           {
            "bin_start": 3.1,
            "bin_end": 3.2,
            "count": 0
           },
           {
            "bin_start": 3.2,
            "bin_end": 3.3,
            "count": 0
           },
           {
            "bin_start": 3.3,
            "bin_end": 3.4,
            "count": 0
           },
           {
            "bin_start": 3.4,
            "bin_end": 3.5,
            "count": 0
           }
          ]
         }
        },
        {
         "name": "Z_Revenue",
         "dtype": "int64",
         "stats": {
          "unique_count": 1,
          "nan_count": 0,
          "min": "11",
          "max": "11",
          "histogram": [
           {
            "bin_start": 10.5,
            "bin_end": 10.6,
            "count": 0
           },
           {
            "bin_start": 10.6,
            "bin_end": 10.7,
            "count": 0
           },
           {
            "bin_start": 10.7,
            "bin_end": 10.8,
            "count": 0
           },
           {
            "bin_start": 10.8,
            "bin_end": 10.9,
            "count": 0
           },
           {
            "bin_start": 10.9,
            "bin_end": 11,
            "count": 0
           },
           {
            "bin_start": 11,
            "bin_end": 11.1,
            "count": 5
           },
           {
            "bin_start": 11.1,
            "bin_end": 11.2,
            "count": 0
           },
           {
            "bin_start": 11.2,
            "bin_end": 11.3,
            "count": 0
           },
           {
            "bin_start": 11.3,
            "bin_end": 11.4,
            "count": 0
           },
           {
            "bin_start": 11.4,
            "bin_end": 11.5,
            "count": 0
           }
          ]
         }
        },
        {
         "name": "Response",
         "dtype": "int64",
         "stats": {
          "unique_count": 2,
          "nan_count": 0,
          "min": "0",
          "max": "1",
          "histogram": [
           {
            "bin_start": 0,
            "bin_end": 0.1,
            "count": 4
           },
           {
            "bin_start": 0.1,
            "bin_end": 0.2,
            "count": 0
           },
           {
            "bin_start": 0.2,
            "bin_end": 0.30000000000000004,
            "count": 0
           },
           {
            "bin_start": 0.30000000000000004,
            "bin_end": 0.4,
            "count": 0
           },
           {
            "bin_start": 0.4,
            "bin_end": 0.5,
            "count": 0
           },
           {
            "bin_start": 0.5,
            "bin_end": 0.6000000000000001,
            "count": 0
           },
           {
            "bin_start": 0.6000000000000001,
            "bin_end": 0.7000000000000001,
            "count": 0
           },
           {
            "bin_start": 0.7000000000000001,
            "bin_end": 0.8,
            "count": 0
           },
           {
            "bin_start": 0.8,
            "bin_end": 0.9,
            "count": 0
           },
           {
            "bin_start": 0.9,
            "bin_end": 1,
            "count": 1
           }
          ]
         }
        },
        {
         "name": "Age",
         "dtype": "int64",
         "stats": {
          "unique_count": 5,
          "nan_count": 0,
          "min": "38",
          "max": "68",
          "histogram": [
           {
            "bin_start": 38,
            "bin_end": 41,
            "count": 1
           },
           {
            "bin_start": 41,
            "bin_end": 44,
            "count": 1
           },
           {
            "bin_start": 44,
            "bin_end": 47,
            "count": 0
           },
           {
            "bin_start": 47,
            "bin_end": 50,
            "count": 0
           },
           {
            "bin_start": 50,
            "bin_end": 53,
            "count": 0
           },
           {
            "bin_start": 53,
            "bin_end": 56,
            "count": 0
           },
           {
            "bin_start": 56,
            "bin_end": 59,
            "count": 1
           },
           {
            "bin_start": 59,
            "bin_end": 62,
            "count": 0
           },
           {
            "bin_start": 62,
            "bin_end": 65,
            "count": 0
           },
           {
            "bin_start": 65,
            "bin_end": 68,
            "count": 2
           }
          ]
         }
        },
        {
         "name": "_deepnote_index_column",
         "dtype": "int64"
        }
       ],
       "rows": [
        {
         "Year_Birth": 1957,
         "Education": "Graduation",
         "Marital_Status": "S",
         "Income": 58138,
         "Kidhome": 0,
         "Teenhome": 0,
         "Dt_Customer": "04-09-2012",
         "Recency": 58,
         "MntWines": 635,
         "MntFruits": 88,
         "MntMeatProducts": 546,
         "MntFishProducts": 172,
         "MntSweetProducts": 88,
         "MntGoldProds": 88,
         "NumDealsPurchases": 3,
         "NumWebPurchases": 8,
         "NumCatalogPurchases": 10,
         "NumStorePurchases": 4,
         "NumWebVisitsMonth": 7,
         "AcceptedCmp3": 0,
         "AcceptedCmp4": 0,
         "AcceptedCmp5": 0,
         "AcceptedCmp1": 0,
         "AcceptedCmp2": 0,
         "Complain": 0,
         "Z_CostContact": 3,
         "Z_Revenue": 11,
         "Response": 1,
         "Age": 65,
         "_deepnote_index_column": 0
        },
        {
         "Year_Birth": 1954,
         "Education": "Graduation",
         "Marital_Status": "S",
         "Income": 46344,
         "Kidhome": 1,
         "Teenhome": 1,
         "Dt_Customer": "08-03-2014",
         "Recency": 38,
         "MntWines": 11,
         "MntFruits": 1,
         "MntMeatProducts": 6,
         "MntFishProducts": 2,
         "MntSweetProducts": 1,
         "MntGoldProds": 6,
         "NumDealsPurchases": 2,
         "NumWebPurchases": 1,
         "NumCatalogPurchases": 1,
         "NumStorePurchases": 2,
         "NumWebVisitsMonth": 5,
         "AcceptedCmp3": 0,
         "AcceptedCmp4": 0,
         "AcceptedCmp5": 0,
         "AcceptedCmp1": 0,
         "AcceptedCmp2": 0,
         "Complain": 0,
         "Z_CostContact": 3,
         "Z_Revenue": 11,
         "Response": 0,
         "Age": 68,
         "_deepnote_index_column": 1
        },
        {
         "Year_Birth": 1965,
         "Education": "Graduation",
         "Marital_Status": "T",
         "Income": 71613,
         "Kidhome": 0,
         "Teenhome": 0,
         "Dt_Customer": "21-08-2013",
         "Recency": 26,
         "MntWines": 426,
         "MntFruits": 49,
         "MntMeatProducts": 127,
         "MntFishProducts": 111,
         "MntSweetProducts": 21,
         "MntGoldProds": 42,
         "NumDealsPurchases": 1,
         "NumWebPurchases": 8,
         "NumCatalogPurchases": 2,
         "NumStorePurchases": 10,
         "NumWebVisitsMonth": 4,
         "AcceptedCmp3": 0,
         "AcceptedCmp4": 0,
         "AcceptedCmp5": 0,
         "AcceptedCmp1": 0,
         "AcceptedCmp2": 0,
         "Complain": 0,
         "Z_CostContact": 3,
         "Z_Revenue": 11,
         "Response": 0,
         "Age": 57,
         "_deepnote_index_column": 2
        },
        {
         "Year_Birth": 1984,
         "Education": "Graduation",
         "Marital_Status": "T",
         "Income": 26646,
         "Kidhome": 1,
         "Teenhome": 0,
         "Dt_Customer": "10-02-2014",
         "Recency": 26,
         "MntWines": 11,
         "MntFruits": 4,
         "MntMeatProducts": 20,
         "MntFishProducts": 10,
         "MntSweetProducts": 3,
         "MntGoldProds": 5,
         "NumDealsPurchases": 2,
         "NumWebPurchases": 2,
         "NumCatalogPurchases": 0,
         "NumStorePurchases": 4,
         "NumWebVisitsMonth": 6,
         "AcceptedCmp3": 0,
         "AcceptedCmp4": 0,
         "AcceptedCmp5": 0,
         "AcceptedCmp1": 0,
         "AcceptedCmp2": 0,
         "Complain": 0,
         "Z_CostContact": 3,
         "Z_Revenue": 11,
         "Response": 0,
         "Age": 38,
         "_deepnote_index_column": 3
        },
        {
         "Year_Birth": 1981,
         "Education": "PhD",
         "Marital_Status": "M",
         "Income": 58293,
         "Kidhome": 1,
         "Teenhome": 0,
         "Dt_Customer": "19-01-2014",
         "Recency": 94,
         "MntWines": 173,
         "MntFruits": 43,
         "MntMeatProducts": 118,
         "MntFishProducts": 46,
         "MntSweetProducts": 27,
         "MntGoldProds": 15,
         "NumDealsPurchases": 5,
         "NumWebPurchases": 5,
         "NumCatalogPurchases": 3,
         "NumStorePurchases": 6,
         "NumWebVisitsMonth": 5,
         "AcceptedCmp3": 0,
         "AcceptedCmp4": 0,
         "AcceptedCmp5": 0,
         "AcceptedCmp1": 0,
         "AcceptedCmp2": 0,
         "Complain": 0,
         "Z_CostContact": 3,
         "Z_Revenue": 11,
         "Response": 0,
         "Age": 41,
         "_deepnote_index_column": 4
        }
       ]
      },
      "text/plain": "   Year_Birth   Education Marital_Status   Income  Kidhome  Teenhome  \\\n0        1957  Graduation              S  58138.0        0         0   \n1        1954  Graduation              S  46344.0        1         1   \n2        1965  Graduation              T  71613.0        0         0   \n3        1984  Graduation              T  26646.0        1         0   \n4        1981         PhD              M  58293.0        1         0   \n\n  Dt_Customer  Recency  MntWines  MntFruits  ...  AcceptedCmp3  AcceptedCmp4  \\\n0  04-09-2012       58       635         88  ...             0             0   \n1  08-03-2014       38        11          1  ...             0             0   \n2  21-08-2013       26       426         49  ...             0             0   \n3  10-02-2014       26        11          4  ...             0             0   \n4  19-01-2014       94       173         43  ...             0             0   \n\n   AcceptedCmp5  AcceptedCmp1  AcceptedCmp2  Complain  Z_CostContact  \\\n0             0             0             0         0              3   \n1             0             0             0         0              3   \n2             0             0             0         0              3   \n3             0             0             0         0              3   \n4             0             0             0         0              3   \n\n   Z_Revenue  Response  Age  \n0         11         1   65  \n1         11         0   68  \n2         11         0   57  \n3         11         0   38  \n4         11         0   41  \n\n[5 rows x 29 columns]",
      "text/html": "<div>\n<style scoped>\n    .dataframe tbody tr th:only-of-type {\n        vertical-align: middle;\n    }\n\n    .dataframe tbody tr th {\n        vertical-align: top;\n    }\n\n    .dataframe thead th {\n        text-align: right;\n    }\n</style>\n<table border=\"1\" class=\"dataframe\">\n  <thead>\n    <tr style=\"text-align: right;\">\n      <th></th>\n      <th>Year_Birth</th>\n      <th>Education</th>\n      <th>Marital_Status</th>\n      <th>Income</th>\n      <th>Kidhome</th>\n      <th>Teenhome</th>\n      <th>Dt_Customer</th>\n      <th>Recency</th>\n      <th>MntWines</th>\n      <th>MntFruits</th>\n      <th>...</th>\n      <th>AcceptedCmp3</th>\n      <th>AcceptedCmp4</th>\n      <th>AcceptedCmp5</th>\n      <th>AcceptedCmp1</th>\n      <th>AcceptedCmp2</th>\n      <th>Complain</th>\n      <th>Z_CostContact</th>\n      <th>Z_Revenue</th>\n      <th>Response</th>\n      <th>Age</th>\n    </tr>\n  </thead>\n  <tbody>\n    <tr>\n      <th>0</th>\n      <td>1957</td>\n      <td>Graduation</td>\n      <td>S</td>\n      <td>58138.0</td>\n      <td>0</td>\n      <td>0</td>\n      <td>04-09-2012</td>\n      <td>58</td>\n      <td>635</td>\n      <td>88</td>\n      <td>...</td>\n      <td>0</td>\n      <td>0</td>\n      <td>0</td>\n      <td>0</td>\n      <td>0</td>\n      <td>0</td>\n      <td>3</td>\n      <td>11</td>\n      <td>1</td>\n      <td>65</td>\n    </tr>\n    <tr>\n      <th>1</th>\n      <td>1954</td>\n      <td>Graduation</td>\n      <td>S</td>\n      <td>46344.0</td>\n      <td>1</td>\n      <td>1</td>\n      <td>08-03-2014</td>\n      <td>38</td>\n      <td>11</td>\n      <td>1</td>\n      <td>...</td>\n      <td>0</td>\n      <td>0</td>\n      <td>0</td>\n      <td>0</td>\n      <td>0</td>\n      <td>0</td>\n      <td>3</td>\n      <td>11</td>\n      <td>0</td>\n      <td>68</td>\n    </tr>\n    <tr>\n      <th>2</th>\n      <td>1965</td>\n      <td>Graduation</td>\n      <td>T</td>\n      <td>71613.0</td>\n      <td>0</td>\n      <td>0</td>\n      <td>21-08-2013</td>\n      <td>26</td>\n      <td>426</td>\n      <td>49</td>\n      <td>...</td>\n      <td>0</td>\n      <td>0</td>\n      <td>0</td>\n      <td>0</td>\n      <td>0</td>\n      <td>0</td>\n      <td>3</td>\n      <td>11</td>\n      <td>0</td>\n      <td>57</td>\n    </tr>\n    <tr>\n      <th>3</th>\n      <td>1984</td>\n      <td>Graduation</td>\n      <td>T</td>\n      <td>26646.0</td>\n      <td>1</td>\n      <td>0</td>\n      <td>10-02-2014</td>\n      <td>26</td>\n      <td>11</td>\n      <td>4</td>\n      <td>...</td>\n      <td>0</td>\n      <td>0</td>\n      <td>0</td>\n      <td>0</td>\n      <td>0</td>\n      <td>0</td>\n      <td>3</td>\n      <td>11</td>\n      <td>0</td>\n      <td>38</td>\n    </tr>\n    <tr>\n      <th>4</th>\n      <td>1981</td>\n      <td>PhD</td>\n      <td>M</td>\n      <td>58293.0</td>\n      <td>1</td>\n      <td>0</td>\n      <td>19-01-2014</td>\n      <td>94</td>\n      <td>173</td>\n      <td>43</td>\n      <td>...</td>\n      <td>0</td>\n      <td>0</td>\n      <td>0</td>\n      <td>0</td>\n      <td>0</td>\n      <td>0</td>\n      <td>3</td>\n      <td>11</td>\n      <td>0</td>\n      <td>41</td>\n    </tr>\n  </tbody>\n</table>\n<p>5 rows × 29 columns</p>\n</div>"
     },
     "metadata": {}
    }
   ]
  },
  {
   "cell_type": "markdown",
   "source": "#### Ejercicio 4\n\nCree una nueva variable con el total de ofertas aceptadas por el cliente. ",
   "metadata": {
    "cell_id": "a9227862-47cf-402e-becb-58275407599d",
    "tags": [],
    "deepnote_cell_type": "markdown"
   }
  },
  {
   "cell_type": "markdown",
   "source": "**Respuesta**",
   "metadata": {
    "cell_id": "b9904398-a9d8-4863-946e-2498130c9b96",
    "tags": [],
    "deepnote_cell_type": "markdown"
   }
  },
  {
   "cell_type": "markdown",
   "source": "### Transformación a datos categóricos\n\nEs posible crear variables categóricas adicionales con el fin de agrupar características de variables cualitativas o cuantitativas.",
   "metadata": {
    "cell_id": "2430ddd2-c9f9-43c6-952f-1ce73ec32cb1",
    "tags": [],
    "deepnote_cell_type": "markdown"
   }
  },
  {
   "cell_type": "markdown",
   "source": "#### Ejemplo 5\n\nSe crea una variable categórica adicional que contiene información sobre si el cliente tiene o no hijos.",
   "metadata": {
    "cell_id": "db62df2e-23f1-4012-a800-ad8701e68af7",
    "tags": [],
    "deepnote_cell_type": "markdown"
   }
  },
  {
   "cell_type": "code",
   "metadata": {
    "cell_id": "5133c71c-a461-4169-b424-38acd136c2be",
    "tags": [],
    "deepnote_to_be_reexecuted": false,
    "source_hash": "8652a4ff",
    "execution_start": 1646176798560,
    "execution_millis": 6,
    "deepnote_cell_type": "code"
   },
   "source": "def determinacion_padres(x):\n    if x == 0:\n        return False\n    else:\n        return True\n\ndf_customers['TieneHijos'] = df_customers['Kidhome'].apply(lambda x: determinacion_padres(x))\ndf_customers[['TieneHijos','Kidhome']].head(5)",
   "execution_count": null,
   "outputs": [
    {
     "output_type": "execute_result",
     "execution_count": 11,
     "data": {
      "application/vnd.deepnote.dataframe.v3+json": {
       "column_count": 2,
       "row_count": 5,
       "columns": [
        {
         "name": "TieneHijos",
         "dtype": "bool",
         "stats": {
          "unique_count": 2,
          "nan_count": 0,
          "categories": [
           {
            "name": "True",
            "count": 3
           },
           {
            "name": "False",
            "count": 2
           }
          ]
         }
        },
        {
         "name": "Kidhome",
         "dtype": "int64",
         "stats": {
          "unique_count": 2,
          "nan_count": 0,
          "min": "0",
          "max": "1",
          "histogram": [
           {
            "bin_start": 0,
            "bin_end": 0.1,
            "count": 2
           },
           {
            "bin_start": 0.1,
            "bin_end": 0.2,
            "count": 0
           },
           {
            "bin_start": 0.2,
            "bin_end": 0.30000000000000004,
            "count": 0
           },
           {
            "bin_start": 0.30000000000000004,
            "bin_end": 0.4,
            "count": 0
           },
           {
            "bin_start": 0.4,
            "bin_end": 0.5,
            "count": 0
           },
           {
            "bin_start": 0.5,
            "bin_end": 0.6000000000000001,
            "count": 0
           },
           {
            "bin_start": 0.6000000000000001,
            "bin_end": 0.7000000000000001,
            "count": 0
           },
           {
            "bin_start": 0.7000000000000001,
            "bin_end": 0.8,
            "count": 0
           },
           {
            "bin_start": 0.8,
            "bin_end": 0.9,
            "count": 0
           },
           {
            "bin_start": 0.9,
            "bin_end": 1,
            "count": 3
           }
          ]
         }
        },
        {
         "name": "_deepnote_index_column",
         "dtype": "int64"
        }
       ],
       "rows": [
        {
         "TieneHijos": false,
         "Kidhome": 0,
         "_deepnote_index_column": 0
        },
        {
         "TieneHijos": true,
         "Kidhome": 1,
         "_deepnote_index_column": 1
        },
        {
         "TieneHijos": false,
         "Kidhome": 0,
         "_deepnote_index_column": 2
        },
        {
         "TieneHijos": true,
         "Kidhome": 1,
         "_deepnote_index_column": 3
        },
        {
         "TieneHijos": true,
         "Kidhome": 1,
         "_deepnote_index_column": 4
        }
       ]
      },
      "text/plain": "   TieneHijos  Kidhome\n0       False        0\n1        True        1\n2       False        0\n3        True        1\n4        True        1",
      "text/html": "<div>\n<style scoped>\n    .dataframe tbody tr th:only-of-type {\n        vertical-align: middle;\n    }\n\n    .dataframe tbody tr th {\n        vertical-align: top;\n    }\n\n    .dataframe thead th {\n        text-align: right;\n    }\n</style>\n<table border=\"1\" class=\"dataframe\">\n  <thead>\n    <tr style=\"text-align: right;\">\n      <th></th>\n      <th>TieneHijos</th>\n      <th>Kidhome</th>\n    </tr>\n  </thead>\n  <tbody>\n    <tr>\n      <th>0</th>\n      <td>False</td>\n      <td>0</td>\n    </tr>\n    <tr>\n      <th>1</th>\n      <td>True</td>\n      <td>1</td>\n    </tr>\n    <tr>\n      <th>2</th>\n      <td>False</td>\n      <td>0</td>\n    </tr>\n    <tr>\n      <th>3</th>\n      <td>True</td>\n      <td>1</td>\n    </tr>\n    <tr>\n      <th>4</th>\n      <td>True</td>\n      <td>1</td>\n    </tr>\n  </tbody>\n</table>\n</div>"
     },
     "metadata": {}
    }
   ]
  },
  {
   "cell_type": "markdown",
   "source": "#### Ejercicio 5\n\nAsigne sus clientes a tres categorías basadas en la edad de estos",
   "metadata": {
    "cell_id": "125a52d9-a1af-423c-b848-8f3c91b54e20",
    "tags": [],
    "deepnote_cell_type": "markdown"
   }
  },
  {
   "cell_type": "markdown",
   "source": "**Respuesta**",
   "metadata": {
    "cell_id": "3c36722e-f6ed-4428-9de8-c99d1f793f23",
    "tags": [],
    "deepnote_cell_type": "markdown"
   }
  },
  {
   "cell_type": "markdown",
   "source": "<a style='text-decoration:none;line-height:16px;display:flex;color:#5B5B62;padding:10px;justify-content:end;' href='https://deepnote.com?utm_source=created-in-deepnote-cell&projectId=6bb6c849-6b4b-49a2-8775-80ecb8e8b9b2' target=\"_blank\">\n<img alt='Created in deepnote.com' style='display:inline;max-height:16px;margin:0px;margin-right:7.5px;' src='data:image/svg+xml;base64,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' > </img>\nCreated in <span style='font-weight:600;margin-left:4px;'>Deepnote</span></a>",
   "metadata": {
    "tags": [],
    "created_in_deepnote_cell": true,
    "deepnote_cell_type": "markdown"
   }
  }
 ],
 "nbformat": 4,
 "nbformat_minor": 2,
 "metadata": {
  "orig_nbformat": 2,
  "deepnote": {
   "is_reactive": false
  },
  "deepnote_notebook_id": "e3feee95-0c53-4081-9595-9b0cce1c5b72",
  "deepnote_execution_queue": []
 }
}